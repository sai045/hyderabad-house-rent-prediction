{
 "cells": [
  {
   "cell_type": "code",
   "execution_count": null,
   "metadata": {},
   "outputs": [],
   "source": [
    "import numpy as np\n",
    "import pandas as pd\n",
    "from sklearn.preprocessing import StandardScaler\n",
    "from sklearn.model_selection import train_test_split\n",
    "from sklearn.preprocessing import LabelEncoder\n",
    "from sklearn.metrics import mean_squared_error\n",
    "from sklearn.linear_model import LinearRegression\n",
    "import matplotlib.pyplot as plt\n",
    "import seaborn as sns"
   ]
  },
  {
   "cell_type": "code",
   "execution_count": null,
   "metadata": {},
   "outputs": [],
   "source": []
  },
  {
   "cell_type": "code",
   "execution_count": null,
   "metadata": {},
   "outputs": [],
   "source": [
    "data = pd.read_csv(\"hyd_v2.csv\")\n",
    "locality = data['locality']\n",
    "facing = data['facing']\n",
    "furnishingDesc = data['furnishingDesc']\n",
    "gym = data['gym']\n",
    "isMaintenance = data['isMaintenance']\n",
    "lift = data['lift']\n",
    "loanAvailable = data['loanAvailable']\n",
    "parking = data['parking']\n",
    "reactivationSource = data['reactivationSource']\n",
    "sharedAccomodation = data['sharedAccomodation']\n",
    "swimmingPool = data['swimmingPool']\n",
    "waterSupply = data['waterSupply']"
   ]
  },
  {
   "cell_type": "code",
   "execution_count": null,
   "metadata": {},
   "outputs": [],
   "source": [
    "data.shape"
   ]
  },
  {
   "cell_type": "code",
   "execution_count": null,
   "metadata": {},
   "outputs": [],
   "source": [
    "data.head()\n",
    "# id, locality_id, ownerName, propertyType, shortUrl, weigth, propertyType, completeStreetName, facingDesc, parkingDesc can be droped\n",
    "# because they are not needed or are already elaborated in other coumns\n"
   ]
  },
  {
   "cell_type": "code",
   "execution_count": null,
   "metadata": {},
   "outputs": [],
   "source": [
    "data = data.drop(columns=['id', 'localityId', 'ownerName', 'propertyType', 'shortUrl',\n",
    "                 'weight', 'propertyType', 'completeStreetName','active', 'facingDesc', 'parkingDesc','combineDescription'], axis=1)\n"
   ]
  },
  {
   "cell_type": "code",
   "execution_count": null,
   "metadata": {},
   "outputs": [],
   "source": [
    "data.shape\n"
   ]
  },
  {
   "cell_type": "code",
   "execution_count": null,
   "metadata": {},
   "outputs": [],
   "source": [
    "data.columns"
   ]
  },
  {
   "cell_type": "code",
   "execution_count": null,
   "metadata": {},
   "outputs": [],
   "source": [
    "data.isnull().sum()"
   ]
  },
  {
   "cell_type": "code",
   "execution_count": null,
   "metadata": {},
   "outputs": [],
   "source": [
    "data.shape"
   ]
  },
  {
   "cell_type": "code",
   "execution_count": null,
   "metadata": {},
   "outputs": [],
   "source": [
    "data = data.dropna(axis=0,how='any')"
   ]
  },
  {
   "cell_type": "code",
   "execution_count": null,
   "metadata": {},
   "outputs": [],
   "source": [
    "data.isnull().sum()\n",
    "# data is dropped because the null values are very low and removing them doesnt make a difference"
   ]
  },
  {
   "cell_type": "code",
   "execution_count": null,
   "metadata": {},
   "outputs": [],
   "source": [
    "data.drop(columns=['amenities','propertyTitle'],axis=1,inplace=True)"
   ]
  },
  {
   "cell_type": "code",
   "execution_count": null,
   "metadata": {},
   "outputs": [],
   "source": [
    "data.iloc[0]"
   ]
  },
  {
   "cell_type": "code",
   "execution_count": null,
   "metadata": {},
   "outputs": [],
   "source": [
    "data['locality'].value_counts()"
   ]
  },
  {
   "cell_type": "code",
   "execution_count": null,
   "metadata": {},
   "outputs": [],
   "source": [
    "# lets ignore values less than 10 to lessen the data which makes encoding easy\n",
    "locations = data['locality'].value_counts()\n",
    "less_than_10 = locations[locations <= 10]\n",
    "data['locality'] = data['locality'].apply(lambda x: 'other' if x in less_than_10 else x)\n"
   ]
  },
  {
   "cell_type": "code",
   "execution_count": null,
   "metadata": {},
   "outputs": [],
   "source": [
    "data['locality'].value_counts()"
   ]
  },
  {
   "cell_type": "code",
   "execution_count": null,
   "metadata": {},
   "outputs": [],
   "source": [
    "data.head()"
   ]
  },
  {
   "cell_type": "code",
   "execution_count": null,
   "metadata": {},
   "outputs": [],
   "source": [
    "data.iloc[0]"
   ]
  },
  {
   "cell_type": "code",
   "execution_count": null,
   "metadata": {},
   "outputs": [],
   "source": [
    "data['type_bhk'] = data['type_bhk'].apply(lambda x : x[3] if len(x)==4 else None)"
   ]
  },
  {
   "cell_type": "code",
   "execution_count": null,
   "metadata": {},
   "outputs": [],
   "source": [
    "data['type_bhk'].value_counts()"
   ]
  },
  {
   "cell_type": "code",
   "execution_count": null,
   "metadata": {},
   "outputs": [],
   "source": [
    "data.isnull().sum()"
   ]
  },
  {
   "cell_type": "code",
   "execution_count": null,
   "metadata": {},
   "outputs": [],
   "source": [
    "data = data.dropna(axis=0,how='any')\n",
    "# removing the data without BHK values coz they are few "
   ]
  },
  {
   "cell_type": "code",
   "execution_count": null,
   "metadata": {},
   "outputs": [],
   "source": [
    "data.isnull().sum()"
   ]
  },
  {
   "cell_type": "code",
   "execution_count": null,
   "metadata": {},
   "outputs": [],
   "source": [
    "data.iloc[0]"
   ]
  },
  {
   "cell_type": "code",
   "execution_count": null,
   "metadata": {},
   "outputs": [],
   "source": [
    "labelencoder = LabelEncoder()"
   ]
  },
  {
   "cell_type": "code",
   "execution_count": null,
   "metadata": {},
   "outputs": [],
   "source": [
    "data['locality'].value_counts()"
   ]
  },
  {
   "cell_type": "code",
   "execution_count": null,
   "metadata": {},
   "outputs": [],
   "source": [
    "locality_label = labelencoder.fit_transform(data.locality)\n",
    "data.locality = locality_label\n",
    "facing_label = labelencoder.fit_transform(data.facing)\n",
    "data.facing = facing_label\n",
    "furnishingDesc_label = labelencoder.fit_transform(data.furnishingDesc)\n",
    "data.furnishingDesc = furnishingDesc_label\n",
    "gym_label = labelencoder.fit_transform(data.gym)\n",
    "data.gym = gym_label\n",
    "isMaintenance_label = labelencoder.fit_transform(data.isMaintenance)\n",
    "data.isMaintenance = isMaintenance_label\n",
    "lift_label = labelencoder.fit_transform(data.lift)\n",
    "data.lift = lift_label\n",
    "loanAvailable_label = labelencoder.fit_transform(data.loanAvailable)\n",
    "data.loanAvailable = loanAvailable_label\n",
    "parking_label = labelencoder.fit_transform(data.parking)\n",
    "data.parking = parking_label\n",
    "reactivationSource_label = labelencoder.fit_transform(data.reactivationSource)\n",
    "data.reactivationSource = reactivationSource_label\n",
    "sharedAccomodation_label = labelencoder.fit_transform(data.sharedAccomodation)\n",
    "data.sharedAccomodation = sharedAccomodation_label\n",
    "swimmingPool_label = labelencoder.fit_transform(data.swimmingPool)\n",
    "data.swimmingPool = swimmingPool_label\n",
    "waterSupply_label = labelencoder.fit_transform(data.waterSupply)\n",
    "data.waterSupply = waterSupply_label"
   ]
  },
  {
   "cell_type": "code",
   "execution_count": null,
   "metadata": {},
   "outputs": [],
   "source": [
    "locality_dict = dict(zip(locality,locality_label))\n",
    "facing_dict = dict(zip(facing,facing_label))\n",
    "furnishingDesc_dict = dict(zip(furnishingDesc,furnishingDesc_label))\n",
    "gym_dict = dict(zip(gym,gym_label))\n",
    "isMaintenance_dict = dict(zip(isMaintenance,isMaintenance_label))\n",
    "lift_dict = dict(zip(lift,lift_label))\n",
    "loanAvailable_dict = dict(zip(loanAvailable,loanAvailable_label))\n",
    "parking_dict = dict(zip(parking,parking_label))\n",
    "reactivationSource_dict = dict(zip(reactivationSource,reactivationSource_label))\n",
    "sharedAccomodation_dict = dict(zip(sharedAccomodation,sharedAccomodation_label))\n",
    "swimmingPool_dict = dict(zip(swimmingPool,swimmingPool_label))\n",
    "waterSupply_dict = dict(zip(waterSupply,waterSupply_label))"
   ]
  },
  {
   "cell_type": "code",
   "execution_count": null,
   "metadata": {},
   "outputs": [],
   "source": [
    "data['locality'].value_counts()"
   ]
  },
  {
   "cell_type": "code",
   "execution_count": null,
   "metadata": {},
   "outputs": [],
   "source": [
    "data['locality'].value_counts()"
   ]
  },
  {
   "cell_type": "code",
   "execution_count": null,
   "metadata": {},
   "outputs": [],
   "source": [
    "data.iloc[0]"
   ]
  },
  {
   "cell_type": "code",
   "execution_count": null,
   "metadata": {},
   "outputs": [],
   "source": [
    "data[['location-x', 'location-y']\n",
    "     ] = data['location'].str.split(',', n=2, expand=True)\n"
   ]
  },
  {
   "cell_type": "code",
   "execution_count": null,
   "metadata": {},
   "outputs": [],
   "source": [
    "data.loc[0]"
   ]
  },
  {
   "cell_type": "code",
   "execution_count": null,
   "metadata": {},
   "outputs": [],
   "source": [
    "del data['location']"
   ]
  },
  {
   "cell_type": "code",
   "execution_count": null,
   "metadata": {},
   "outputs": [],
   "source": [
    "for i in data.iloc[0]:\n",
    "    print(type(i))\n",
    "    # print(i)"
   ]
  },
  {
   "cell_type": "code",
   "execution_count": null,
   "metadata": {},
   "outputs": [],
   "source": [
    "data['balconies'] = data['balconies'].apply(lambda x: x if type(x)==int else 0)\n",
    "data['maintenanceAmount'] = data['maintenanceAmount'].apply(lambda x: x if type(x)==int else 0)"
   ]
  },
  {
   "cell_type": "code",
   "execution_count": null,
   "metadata": {},
   "outputs": [],
   "source": [
    "data['balconies'] = data['balconies'].astype(float)\n",
    "data['location-x'] = data['location-x'].astype(float)\n",
    "data['location-y'] = data['location-y'].astype(float)\n",
    "data['type_bhk'] = data['type_bhk'].astype(float)\n",
    "data['maintenanceAmount'] = data['maintenanceAmount'].astype(float)"
   ]
  },
  {
   "cell_type": "markdown",
   "metadata": {},
   "source": [
    "OUTLINERS "
   ]
  },
  {
   "cell_type": "code",
   "execution_count": null,
   "metadata": {},
   "outputs": [],
   "source": [
    "data.describe()"
   ]
  },
  {
   "cell_type": "code",
   "execution_count": null,
   "metadata": {},
   "outputs": [],
   "source": [
    "(data['property_size']/data['type_bhk']).describe()\n",
    "# There are outliners\n",
    "# lets take 250 as the minimum "
   ]
  },
  {
   "cell_type": "code",
   "execution_count": null,
   "metadata": {},
   "outputs": [],
   "source": [
    "data = data[((data['property_size']/data['type_bhk'])>=250)]"
   ]
  },
  {
   "cell_type": "code",
   "execution_count": null,
   "metadata": {},
   "outputs": [],
   "source": [
    "(data['property_size']/data['type_bhk']).describe()"
   ]
  },
  {
   "cell_type": "code",
   "execution_count": null,
   "metadata": {},
   "outputs": [],
   "source": [
    "data = data[(data['property_size'])<5000]"
   ]
  },
  {
   "cell_type": "code",
   "execution_count": null,
   "metadata": {},
   "outputs": [],
   "source": [
    "data['bathroom'].describe()"
   ]
  },
  {
   "cell_type": "code",
   "execution_count": null,
   "metadata": {},
   "outputs": [],
   "source": [
    "data['rent_amount'].describe()"
   ]
  },
  {
   "cell_type": "code",
   "execution_count": null,
   "metadata": {},
   "outputs": [],
   "source": [
    "(data['rent_amount']/data['type_bhk']).describe()\n",
    "# rent cant be less than a amount so they are outliners \n",
    "# lets take the minimum as 2000 and maximum as 10000"
   ]
  },
  {
   "cell_type": "code",
   "execution_count": null,
   "metadata": {},
   "outputs": [],
   "source": [
    "data.shape"
   ]
  },
  {
   "cell_type": "code",
   "execution_count": null,
   "metadata": {},
   "outputs": [],
   "source": [
    "data = data[((data['rent_amount']/data['type_bhk'])>=2500)]"
   ]
  },
  {
   "cell_type": "code",
   "execution_count": null,
   "metadata": {},
   "outputs": [],
   "source": [
    "data.shape"
   ]
  },
  {
   "cell_type": "code",
   "execution_count": null,
   "metadata": {},
   "outputs": [],
   "source": [
    "data = data[((data['rent_amount']/data['type_bhk'])<=10000)]"
   ]
  },
  {
   "cell_type": "code",
   "execution_count": null,
   "metadata": {},
   "outputs": [],
   "source": [
    "data.std()"
   ]
  },
  {
   "cell_type": "code",
   "execution_count": null,
   "metadata": {},
   "outputs": [],
   "source": [
    "data['deposit'].describe()"
   ]
  },
  {
   "cell_type": "code",
   "execution_count": null,
   "metadata": {},
   "outputs": [],
   "source": [
    "data.shape"
   ]
  },
  {
   "cell_type": "code",
   "execution_count": null,
   "metadata": {},
   "outputs": [],
   "source": [
    "(data['deposit']/data['type_bhk']).describe()\n",
    "# deposit more than 50000 per bedroom are unreasonable and are outliners \n",
    "# same for deposit less than 2500"
   ]
  },
  {
   "cell_type": "code",
   "execution_count": null,
   "metadata": {},
   "outputs": [],
   "source": [
    "data = data[((data['deposit']/data['type_bhk'])<=50000)]"
   ]
  },
  {
   "cell_type": "code",
   "execution_count": null,
   "metadata": {},
   "outputs": [],
   "source": [
    "data.shape"
   ]
  },
  {
   "cell_type": "code",
   "execution_count": null,
   "metadata": {},
   "outputs": [],
   "source": [
    "data = data[((data['deposit']/data['type_bhk'])>=2500)]"
   ]
  },
  {
   "cell_type": "code",
   "execution_count": null,
   "metadata": {},
   "outputs": [],
   "source": [
    "data.shape"
   ]
  },
  {
   "cell_type": "code",
   "execution_count": null,
   "metadata": {},
   "outputs": [],
   "source": [
    "data.head()"
   ]
  },
  {
   "cell_type": "code",
   "execution_count": null,
   "metadata": {},
   "outputs": [],
   "source": [
    "data['bathroom'].describe()"
   ]
  },
  {
   "cell_type": "code",
   "execution_count": null,
   "metadata": {},
   "outputs": [],
   "source": [
    "y = data['rent_amount']\n",
    "x = data['deposit']\n",
    "fig2 = plt.figure()\n",
    "ax = fig2.add_axes([0,0,1,1])\n",
    "ax.scatter(x,y,color=\"g\")\n",
    "plt.show()\n",
    "# Removing outliners by using scatter graphs"
   ]
  },
  {
   "cell_type": "code",
   "execution_count": null,
   "metadata": {},
   "outputs": [],
   "source": [
    "data = data[(data['deposit']<200000)]"
   ]
  },
  {
   "cell_type": "code",
   "execution_count": null,
   "metadata": {},
   "outputs": [],
   "source": [
    "y = data['rent_amount']\n",
    "x = data['type_bhk']\n",
    "fig2 = plt.figure()\n",
    "ax = fig2.add_axes([0,0,1,1])\n",
    "ax.scatter(x,y,color=\"g\")\n",
    "plt.show()\n",
    "# no ouliners"
   ]
  },
  {
   "cell_type": "code",
   "execution_count": null,
   "metadata": {},
   "outputs": [],
   "source": [
    "y = data['rent_amount']\n",
    "x = data['rent_amount']\n",
    "fig2 = plt.figure()\n",
    "ax = fig2.add_axes([0,0,1,1])\n",
    "ax.scatter(x,y,color=\"g\")\n",
    "plt.show()"
   ]
  },
  {
   "cell_type": "code",
   "execution_count": null,
   "metadata": {},
   "outputs": [],
   "source": [
    "y = data['deposit']\n",
    "x = data['type_bhk']\n",
    "fig2 = plt.figure()\n",
    "ax = fig2.add_axes([0,0,1,1])\n",
    "ax.scatter(x,y,color=\"g\")\n",
    "plt.show()"
   ]
  },
  {
   "cell_type": "code",
   "execution_count": null,
   "metadata": {},
   "outputs": [],
   "source": [
    "y = data['property_size']\n",
    "x = data['rent_amount']\n",
    "fig2 = plt.figure()\n",
    "ax = fig2.add_axes([0,0,1,1])\n",
    "ax.scatter(x,y,color=\"g\")\n",
    "plt.show()"
   ]
  },
  {
   "cell_type": "code",
   "execution_count": null,
   "metadata": {},
   "outputs": [],
   "source": [
    "scaler = StandardScaler()\n",
    "scaler.fit_transform(data)"
   ]
  },
  {
   "cell_type": "code",
   "execution_count": null,
   "metadata": {},
   "outputs": [],
   "source": [
    "data.std()"
   ]
  },
  {
   "cell_type": "code",
   "execution_count": null,
   "metadata": {},
   "outputs": [],
   "source": [
    "y = data['rent_amount']\n",
    "x = data.drop(columns='rent_amount',axis=1)"
   ]
  },
  {
   "cell_type": "code",
   "execution_count": null,
   "metadata": {},
   "outputs": [],
   "source": [
    "x_train, x_test, y_train, y_test = train_test_split(x,y,test_size=0.2,random_state=3)"
   ]
  },
  {
   "cell_type": "code",
   "execution_count": null,
   "metadata": {},
   "outputs": [],
   "source": [
    "model = LinearRegression()"
   ]
  },
  {
   "cell_type": "code",
   "execution_count": null,
   "metadata": {},
   "outputs": [],
   "source": [
    "model.fit(x_train,y_train)"
   ]
  },
  {
   "cell_type": "code",
   "execution_count": null,
   "metadata": {},
   "outputs": [],
   "source": [
    "print(model.coef_)\n",
    "# coef are all the inputs we have given "
   ]
  },
  {
   "cell_type": "code",
   "execution_count": null,
   "metadata": {},
   "outputs": [],
   "source": [
    "y_pred = model.predict(x_test)\n"
   ]
  },
  {
   "cell_type": "code",
   "execution_count": null,
   "metadata": {},
   "outputs": [],
   "source": [
    "print(y_pred)"
   ]
  },
  {
   "cell_type": "code",
   "execution_count": null,
   "metadata": {},
   "outputs": [],
   "source": [
    "print(y_test)"
   ]
  },
  {
   "cell_type": "code",
   "execution_count": null,
   "metadata": {},
   "outputs": [],
   "source": [
    "print(mean_squared_error(y_pred=y_pred,y_true=y_test))\n",
    "# 4996735"
   ]
  },
  {
   "cell_type": "code",
   "execution_count": null,
   "metadata": {},
   "outputs": [],
   "source": [
    "x_test.iloc[0]"
   ]
  },
  {
   "cell_type": "code",
   "execution_count": null,
   "metadata": {},
   "outputs": [],
   "source": [
    "balconies = 0.000000\n",
    "bathroom = 2.000000\n",
    "deposit = 20000.000000\n",
    "facing = 5.000000\n",
    "floor = 1.000000\n",
    "furnishingDesc = 2.000000\n",
    "gym = 0.000000\n",
    "isMaintenance = 1.000000\n",
    "lift = 0.000000\n",
    "loanAvailable = 0.000000\n",
    "locality = 114.000000\n",
    "maintenanceAmount =0.000000\n",
    "parking  =  3.000000\n",
    "property_age = 5.000000\n",
    "property_size =1000.000000\n",
    "reactivationSource=  5.000000\n",
    "sharedAccomodation = 0.000000\n",
    "swimmingPool  =0.000000\n",
    "totalFloor  =  2.000000\n",
    "type_bhk =  2.000000\n",
    "waterSupply  = 3.000000\n",
    "location_x =  17.446338\n",
    "location_y =  78.535506\n",
    "input_data = np.array([balconies,bathroom,deposit,facing,floor, furnishingDesc, gym,isMaintenance,lift,loanAvailable,locality,maintenanceAmount, parking,property_age,\n",
    "property_size,reactivationSource,sharedAccomodation,swimmingPool,totalFloor,type_bhk,waterSupply,location_x,location_y])\n",
    "input_data = input_data.reshape(1,-1)\n",
    "sol = model.predict(input_data)\n",
    "print(sol)"
   ]
  }
 ],
 "metadata": {
  "interpreter": {
   "hash": "6b41ef7670266d03b8c1d51981e5e179bec41dc32367c8e291434a82e4c281ea"
  },
  "kernelspec": {
   "display_name": "Python 3.10.1 ('venv': venv)",
   "language": "python",
   "name": "python3"
  },
  "language_info": {
   "codemirror_mode": {
    "name": "ipython",
    "version": 3
   },
   "file_extension": ".py",
   "mimetype": "text/x-python",
   "name": "python",
   "nbconvert_exporter": "python",
   "pygments_lexer": "ipython3",
   "version": "3.10.1"
  },
  "orig_nbformat": 4
 },
 "nbformat": 4,
 "nbformat_minor": 2
}
