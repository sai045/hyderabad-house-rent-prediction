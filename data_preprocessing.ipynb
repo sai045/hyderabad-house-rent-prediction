{
 "cells": [
  {
   "cell_type": "code",
   "execution_count": 1210,
   "metadata": {},
   "outputs": [],
   "source": [
    "import numpy as np\n",
    "import pandas as pd\n",
    "from sklearn.preprocessing import StandardScaler\n",
    "from sklearn.model_selection import train_test_split\n",
    "from sklearn.preprocessing import LabelEncoder\n",
    "from sklearn.metrics import mean_squared_error\n",
    "from sklearn.linear_model import LinearRegression\n",
    "import matplotlib.pyplot as plt\n",
    "import seaborn as sns"
   ]
  },
  {
   "cell_type": "code",
   "execution_count": 1211,
   "metadata": {},
   "outputs": [],
   "source": [
    "data = pd.read_csv(\"hyd_v2.csv\")\n"
   ]
  },
  {
   "cell_type": "code",
   "execution_count": 1212,
   "metadata": {},
   "outputs": [
    {
     "data": {
      "text/plain": [
       "(19110, 36)"
      ]
     },
     "execution_count": 1212,
     "metadata": {},
     "output_type": "execute_result"
    }
   ],
   "source": [
    "data.shape"
   ]
  },
  {
   "cell_type": "code",
   "execution_count": 1213,
   "metadata": {},
   "outputs": [
    {
     "data": {
      "text/html": [
       "<div>\n",
       "<style scoped>\n",
       "    .dataframe tbody tr th:only-of-type {\n",
       "        vertical-align: middle;\n",
       "    }\n",
       "\n",
       "    .dataframe tbody tr th {\n",
       "        vertical-align: top;\n",
       "    }\n",
       "\n",
       "    .dataframe thead th {\n",
       "        text-align: right;\n",
       "    }\n",
       "</style>\n",
       "<table border=\"1\" class=\"dataframe\">\n",
       "  <thead>\n",
       "    <tr style=\"text-align: right;\">\n",
       "      <th></th>\n",
       "      <th>active</th>\n",
       "      <th>amenities</th>\n",
       "      <th>balconies</th>\n",
       "      <th>bathroom</th>\n",
       "      <th>combineDescription</th>\n",
       "      <th>completeStreetName</th>\n",
       "      <th>deposit</th>\n",
       "      <th>facing</th>\n",
       "      <th>facingDesc</th>\n",
       "      <th>floor</th>\n",
       "      <th>...</th>\n",
       "      <th>property_size</th>\n",
       "      <th>reactivationSource</th>\n",
       "      <th>rent_amount</th>\n",
       "      <th>sharedAccomodation</th>\n",
       "      <th>shortUrl</th>\n",
       "      <th>swimmingPool</th>\n",
       "      <th>totalFloor</th>\n",
       "      <th>type_bhk</th>\n",
       "      <th>waterSupply</th>\n",
       "      <th>weight</th>\n",
       "    </tr>\n",
       "  </thead>\n",
       "  <tbody>\n",
       "    <tr>\n",
       "      <th>0</th>\n",
       "      <td>True</td>\n",
       "      <td>{\"LIFT\":true,\"GYM\":false,\"INTERNET\":false,\"AC\"...</td>\n",
       "      <td>3</td>\n",
       "      <td>3</td>\n",
       "      <td>NaN</td>\n",
       "      <td>Shreya carnation, Block I, NCB Enclave, Gachib...</td>\n",
       "      <td>90000</td>\n",
       "      <td>W</td>\n",
       "      <td>West</td>\n",
       "      <td>3</td>\n",
       "      <td>...</td>\n",
       "      <td>2200</td>\n",
       "      <td>USER_DASHBOARD</td>\n",
       "      <td>28000</td>\n",
       "      <td>False</td>\n",
       "      <td>http://nobr.kr/sv/9Kvqj</td>\n",
       "      <td>False</td>\n",
       "      <td>5</td>\n",
       "      <td>BHK3</td>\n",
       "      <td>CORP_BORE</td>\n",
       "      <td>NaN</td>\n",
       "    </tr>\n",
       "    <tr>\n",
       "      <th>1</th>\n",
       "      <td>True</td>\n",
       "      <td>{\"LIFT\":false,\"GYM\":false,\"INTERNET\":false,\"AC...</td>\n",
       "      <td>1</td>\n",
       "      <td>2</td>\n",
       "      <td>NaN</td>\n",
       "      <td>Inner Ring Rd,  near RTO Bandlaguda South Zone</td>\n",
       "      <td>45000</td>\n",
       "      <td>E</td>\n",
       "      <td>East</td>\n",
       "      <td>2</td>\n",
       "      <td>...</td>\n",
       "      <td>1200</td>\n",
       "      <td>USER_DASHBOARD</td>\n",
       "      <td>15000</td>\n",
       "      <td>False</td>\n",
       "      <td>http://nobr.kr/sv/j2pD6</td>\n",
       "      <td>False</td>\n",
       "      <td>2</td>\n",
       "      <td>BHK3</td>\n",
       "      <td>BOREWELL</td>\n",
       "      <td>NaN</td>\n",
       "    </tr>\n",
       "    <tr>\n",
       "      <th>2</th>\n",
       "      <td>True</td>\n",
       "      <td>{\"LIFT\":true,\"GYM\":true,\"INTERNET\":false,\"AC\":...</td>\n",
       "      <td>3</td>\n",
       "      <td>3</td>\n",
       "      <td>NaN</td>\n",
       "      <td>Rd Number 2, Shirdi Sai Nagar, Manikonda, Hyde...</td>\n",
       "      <td>80000</td>\n",
       "      <td>E</td>\n",
       "      <td>East</td>\n",
       "      <td>0</td>\n",
       "      <td>...</td>\n",
       "      <td>1800</td>\n",
       "      <td>MISSED_CALL</td>\n",
       "      <td>16000</td>\n",
       "      <td>False</td>\n",
       "      <td>http://nobr.kr/sv/TXJmj</td>\n",
       "      <td>False</td>\n",
       "      <td>3</td>\n",
       "      <td>BHK3</td>\n",
       "      <td>CORP_BORE</td>\n",
       "      <td>NaN</td>\n",
       "    </tr>\n",
       "    <tr>\n",
       "      <th>3</th>\n",
       "      <td>True</td>\n",
       "      <td>{\"LIFT\":false,\"GYM\":false,\"INTERNET\":false,\"AC...</td>\n",
       "      <td>1</td>\n",
       "      <td>2</td>\n",
       "      <td>NaN</td>\n",
       "      <td>Plot No. 44, Road No. 1/A, kakatiya colony, LB...</td>\n",
       "      <td>18000</td>\n",
       "      <td>W</td>\n",
       "      <td>West</td>\n",
       "      <td>2</td>\n",
       "      <td>...</td>\n",
       "      <td>750</td>\n",
       "      <td>MISSED_CALL</td>\n",
       "      <td>9000</td>\n",
       "      <td>False</td>\n",
       "      <td>http://nobr.kr/sv/FnCsf</td>\n",
       "      <td>False</td>\n",
       "      <td>2</td>\n",
       "      <td>BHK2</td>\n",
       "      <td>CORP_BORE</td>\n",
       "      <td>NaN</td>\n",
       "    </tr>\n",
       "    <tr>\n",
       "      <th>4</th>\n",
       "      <td>True</td>\n",
       "      <td>{\"LIFT\":true,\"GYM\":false,\"INTERNET\":false,\"AC\"...</td>\n",
       "      <td>2</td>\n",
       "      <td>2</td>\n",
       "      <td>NaN</td>\n",
       "      <td>Madhapur HUDA Techno Enclave,  Near MaxCure Su...</td>\n",
       "      <td>80000</td>\n",
       "      <td>E</td>\n",
       "      <td>East</td>\n",
       "      <td>2</td>\n",
       "      <td>...</td>\n",
       "      <td>1250</td>\n",
       "      <td>None</td>\n",
       "      <td>32500</td>\n",
       "      <td>False</td>\n",
       "      <td>http://nobr.kr/sv/BQFRb</td>\n",
       "      <td>False</td>\n",
       "      <td>5</td>\n",
       "      <td>BHK2</td>\n",
       "      <td>CORP_BORE</td>\n",
       "      <td>NaN</td>\n",
       "    </tr>\n",
       "  </tbody>\n",
       "</table>\n",
       "<p>5 rows × 36 columns</p>\n",
       "</div>"
      ],
      "text/plain": [
       "   active                                          amenities balconies  \\\n",
       "0    True  {\"LIFT\":true,\"GYM\":false,\"INTERNET\":false,\"AC\"...         3   \n",
       "1    True  {\"LIFT\":false,\"GYM\":false,\"INTERNET\":false,\"AC...         1   \n",
       "2    True  {\"LIFT\":true,\"GYM\":true,\"INTERNET\":false,\"AC\":...         3   \n",
       "3    True  {\"LIFT\":false,\"GYM\":false,\"INTERNET\":false,\"AC...         1   \n",
       "4    True  {\"LIFT\":true,\"GYM\":false,\"INTERNET\":false,\"AC\"...         2   \n",
       "\n",
       "   bathroom  combineDescription  \\\n",
       "0         3                 NaN   \n",
       "1         2                 NaN   \n",
       "2         3                 NaN   \n",
       "3         2                 NaN   \n",
       "4         2                 NaN   \n",
       "\n",
       "                                  completeStreetName  deposit facing  \\\n",
       "0  Shreya carnation, Block I, NCB Enclave, Gachib...    90000      W   \n",
       "1     Inner Ring Rd,  near RTO Bandlaguda South Zone    45000      E   \n",
       "2  Rd Number 2, Shirdi Sai Nagar, Manikonda, Hyde...    80000      E   \n",
       "3  Plot No. 44, Road No. 1/A, kakatiya colony, LB...    18000      W   \n",
       "4  Madhapur HUDA Techno Enclave,  Near MaxCure Su...    80000      E   \n",
       "\n",
       "  facingDesc  floor  ... property_size  reactivationSource rent_amount  \\\n",
       "0       West      3  ...          2200      USER_DASHBOARD       28000   \n",
       "1       East      2  ...          1200      USER_DASHBOARD       15000   \n",
       "2       East      0  ...          1800         MISSED_CALL       16000   \n",
       "3       West      2  ...           750         MISSED_CALL        9000   \n",
       "4       East      2  ...          1250                None       32500   \n",
       "\n",
       "   sharedAccomodation                 shortUrl  swimmingPool totalFloor  \\\n",
       "0               False  http://nobr.kr/sv/9Kvqj         False          5   \n",
       "1               False  http://nobr.kr/sv/j2pD6         False          2   \n",
       "2               False  http://nobr.kr/sv/TXJmj         False          3   \n",
       "3               False  http://nobr.kr/sv/FnCsf         False          2   \n",
       "4               False  http://nobr.kr/sv/BQFRb         False          5   \n",
       "\n",
       "  type_bhk waterSupply weight  \n",
       "0     BHK3   CORP_BORE    NaN  \n",
       "1     BHK3    BOREWELL    NaN  \n",
       "2     BHK3   CORP_BORE    NaN  \n",
       "3     BHK2   CORP_BORE    NaN  \n",
       "4     BHK2   CORP_BORE    NaN  \n",
       "\n",
       "[5 rows x 36 columns]"
      ]
     },
     "execution_count": 1213,
     "metadata": {},
     "output_type": "execute_result"
    }
   ],
   "source": [
    "data.head()\n",
    "# id, locality_id, ownerName, propertyType, shortUrl, weigth, propertyType, completeStreetName, facingDesc, parkingDesc can be droped\n",
    "# because they are not needed or are already elaborated in other coumns\n"
   ]
  },
  {
   "cell_type": "code",
   "execution_count": 1214,
   "metadata": {},
   "outputs": [],
   "source": [
    "data = data.drop(columns=['id', 'localityId', 'ownerName', 'propertyType', 'shortUrl',\n",
    "                 'weight', 'propertyType', 'completeStreetName', 'facingDesc', 'parkingDesc','combineDescription'], axis=1)\n"
   ]
  },
  {
   "cell_type": "code",
   "execution_count": 1215,
   "metadata": {},
   "outputs": [
    {
     "data": {
      "text/plain": [
       "(19110, 26)"
      ]
     },
     "execution_count": 1215,
     "metadata": {},
     "output_type": "execute_result"
    }
   ],
   "source": [
    "data.shape\n"
   ]
  },
  {
   "cell_type": "code",
   "execution_count": 1216,
   "metadata": {},
   "outputs": [
    {
     "data": {
      "text/plain": [
       "Index(['active', 'amenities', 'balconies', 'bathroom', 'deposit', 'facing',\n",
       "       'floor', 'furnishingDesc', 'gym', 'isMaintenance', 'lift',\n",
       "       'loanAvailable', 'locality', 'location', 'maintenanceAmount', 'parking',\n",
       "       'propertyTitle', 'property_age', 'property_size', 'reactivationSource',\n",
       "       'rent_amount', 'sharedAccomodation', 'swimmingPool', 'totalFloor',\n",
       "       'type_bhk', 'waterSupply'],\n",
       "      dtype='object')"
      ]
     },
     "execution_count": 1216,
     "metadata": {},
     "output_type": "execute_result"
    }
   ],
   "source": [
    "data.columns\n"
   ]
  },
  {
   "cell_type": "code",
   "execution_count": 1217,
   "metadata": {},
   "outputs": [],
   "source": [
    "# def amenities(dictionary):\n",
    "#     dictionary = f'{dictionary}'\n",
    "#     # print(type(dictionary))\n",
    "#     dictionary = json.loads(dictionary)\n",
    "#     print(type(dictionary))\n",
    "#     # available = 0\n",
    "#     # for i in dictionary.values():\n",
    "#     #     if i == true:\n",
    "#     #         available += 1\n",
    "#     # print(available/19)\n",
    "#     print(dictionary)\n",
    "\n",
    "\n",
    "# # a = amenities('{\"LIFT\": true, \"GYM\": false, \"INTERNET\": false, \"AC\": false, \"CLUB\": false, \"INTERCOM\": false, \"POOL\": false, \"CPA\": true, \"FS\": false,\"SERVANT\": false, \"SECURITY\": true, \"SC\": false, \"GP\": false, \"PARK\": false, \"RWH\": true, \"STP\": false, \"HK\": false, \"PB\": true, \"VP\": true}')\n",
    "# # print(a)\n",
    "# data['amenities'].apply(amenities)\n"
   ]
  },
  {
   "cell_type": "code",
   "execution_count": 1218,
   "metadata": {},
   "outputs": [
    {
     "data": {
      "text/plain": [
       "active                 0\n",
       "amenities              0\n",
       "balconies              0\n",
       "bathroom               0\n",
       "deposit                0\n",
       "facing                 0\n",
       "floor                  0\n",
       "furnishingDesc         0\n",
       "gym                    0\n",
       "isMaintenance          0\n",
       "lift                   0\n",
       "loanAvailable          0\n",
       "locality               6\n",
       "location               0\n",
       "maintenanceAmount      0\n",
       "parking                0\n",
       "propertyTitle          0\n",
       "property_age           0\n",
       "property_size          0\n",
       "reactivationSource    63\n",
       "rent_amount            0\n",
       "sharedAccomodation     0\n",
       "swimmingPool           0\n",
       "totalFloor             0\n",
       "type_bhk               0\n",
       "waterSupply            0\n",
       "dtype: int64"
      ]
     },
     "execution_count": 1218,
     "metadata": {},
     "output_type": "execute_result"
    }
   ],
   "source": [
    "data.isnull().sum()"
   ]
  },
  {
   "cell_type": "code",
   "execution_count": 1219,
   "metadata": {},
   "outputs": [
    {
     "data": {
      "text/plain": [
       "(19110, 26)"
      ]
     },
     "execution_count": 1219,
     "metadata": {},
     "output_type": "execute_result"
    }
   ],
   "source": [
    "data.shape"
   ]
  },
  {
   "cell_type": "code",
   "execution_count": 1220,
   "metadata": {},
   "outputs": [],
   "source": [
    "data = data.dropna(axis=0,how='any')"
   ]
  },
  {
   "cell_type": "code",
   "execution_count": 1221,
   "metadata": {},
   "outputs": [
    {
     "data": {
      "text/plain": [
       "active                0\n",
       "amenities             0\n",
       "balconies             0\n",
       "bathroom              0\n",
       "deposit               0\n",
       "facing                0\n",
       "floor                 0\n",
       "furnishingDesc        0\n",
       "gym                   0\n",
       "isMaintenance         0\n",
       "lift                  0\n",
       "loanAvailable         0\n",
       "locality              0\n",
       "location              0\n",
       "maintenanceAmount     0\n",
       "parking               0\n",
       "propertyTitle         0\n",
       "property_age          0\n",
       "property_size         0\n",
       "reactivationSource    0\n",
       "rent_amount           0\n",
       "sharedAccomodation    0\n",
       "swimmingPool          0\n",
       "totalFloor            0\n",
       "type_bhk              0\n",
       "waterSupply           0\n",
       "dtype: int64"
      ]
     },
     "execution_count": 1221,
     "metadata": {},
     "output_type": "execute_result"
    }
   ],
   "source": [
    "data.isnull().sum()\n",
    "# data is dropped because the null values are very low and removing them doesnt make a difference"
   ]
  },
  {
   "cell_type": "code",
   "execution_count": 1222,
   "metadata": {},
   "outputs": [],
   "source": [
    "data.drop(columns=['amenities','propertyTitle'],axis=1,inplace=True)"
   ]
  },
  {
   "cell_type": "code",
   "execution_count": 1223,
   "metadata": {},
   "outputs": [
    {
     "data": {
      "text/plain": [
       "active                                                       True\n",
       "balconies                                                       3\n",
       "bathroom                                                        3\n",
       "deposit                                                     90000\n",
       "facing                                                          W\n",
       "floor                                                           3\n",
       "furnishingDesc                                               Semi\n",
       "gym                                                         False\n",
       "isMaintenance                                                True\n",
       "lift                                                         True\n",
       "loanAvailable                                                True\n",
       "locality                                               Gachibowli\n",
       "location              17.465080245131944000,78.340134322090170000\n",
       "maintenanceAmount                                            2000\n",
       "parking                                                      BOTH\n",
       "property_age                                                    5\n",
       "property_size                                                2200\n",
       "reactivationSource                                 USER_DASHBOARD\n",
       "rent_amount                                                 28000\n",
       "sharedAccomodation                                          False\n",
       "swimmingPool                                                False\n",
       "totalFloor                                                      5\n",
       "type_bhk                                                     BHK3\n",
       "waterSupply                                             CORP_BORE\n",
       "Name: 0, dtype: object"
      ]
     },
     "execution_count": 1223,
     "metadata": {},
     "output_type": "execute_result"
    }
   ],
   "source": [
    "data.iloc[0]"
   ]
  },
  {
   "cell_type": "code",
   "execution_count": 1224,
   "metadata": {},
   "outputs": [
    {
     "data": {
      "text/plain": [
       "Kukatpally        1519\n",
       "Kondapur          1232\n",
       "Gachibowli         713\n",
       "Miyapur            601\n",
       "Hafeezpet          466\n",
       "                  ... \n",
       "Namalagundu          1\n",
       "Medipattanam         1\n",
       "Himayathnagar        1\n",
       "Shilpa Park          1\n",
       "Sikh Village,        1\n",
       "Name: locality, Length: 2634, dtype: int64"
      ]
     },
     "execution_count": 1224,
     "metadata": {},
     "output_type": "execute_result"
    }
   ],
   "source": [
    "data['locality'].value_counts()"
   ]
  },
  {
   "cell_type": "code",
   "execution_count": 1225,
   "metadata": {},
   "outputs": [],
   "source": [
    "# lets ignore values less than 10 to lessen the data which makes encoding easy\n",
    "locations = data['locality'].value_counts()\n",
    "less_than_10 = locations[locations <= 10]\n",
    "data['locality'] = data['locality'].apply(lambda x: 'other' if x in less_than_10 else x)\n"
   ]
  },
  {
   "cell_type": "code",
   "execution_count": 1226,
   "metadata": {},
   "outputs": [
    {
     "data": {
      "text/plain": [
       "other                 4165\n",
       "Kukatpally            1519\n",
       "Kondapur              1232\n",
       "Gachibowli             713\n",
       "Miyapur                601\n",
       "                      ... \n",
       "Shilpa Hills            11\n",
       "Nampally                11\n",
       "Gopanapalli Thanda      11\n",
       "Peeramcheru             11\n",
       "L. B. Nagar             11\n",
       "Name: locality, Length: 211, dtype: int64"
      ]
     },
     "execution_count": 1226,
     "metadata": {},
     "output_type": "execute_result"
    }
   ],
   "source": [
    "data['locality'].value_counts()"
   ]
  },
  {
   "cell_type": "code",
   "execution_count": 1227,
   "metadata": {},
   "outputs": [
    {
     "data": {
      "text/html": [
       "<div>\n",
       "<style scoped>\n",
       "    .dataframe tbody tr th:only-of-type {\n",
       "        vertical-align: middle;\n",
       "    }\n",
       "\n",
       "    .dataframe tbody tr th {\n",
       "        vertical-align: top;\n",
       "    }\n",
       "\n",
       "    .dataframe thead th {\n",
       "        text-align: right;\n",
       "    }\n",
       "</style>\n",
       "<table border=\"1\" class=\"dataframe\">\n",
       "  <thead>\n",
       "    <tr style=\"text-align: right;\">\n",
       "      <th></th>\n",
       "      <th>active</th>\n",
       "      <th>balconies</th>\n",
       "      <th>bathroom</th>\n",
       "      <th>deposit</th>\n",
       "      <th>facing</th>\n",
       "      <th>floor</th>\n",
       "      <th>furnishingDesc</th>\n",
       "      <th>gym</th>\n",
       "      <th>isMaintenance</th>\n",
       "      <th>lift</th>\n",
       "      <th>...</th>\n",
       "      <th>parking</th>\n",
       "      <th>property_age</th>\n",
       "      <th>property_size</th>\n",
       "      <th>reactivationSource</th>\n",
       "      <th>rent_amount</th>\n",
       "      <th>sharedAccomodation</th>\n",
       "      <th>swimmingPool</th>\n",
       "      <th>totalFloor</th>\n",
       "      <th>type_bhk</th>\n",
       "      <th>waterSupply</th>\n",
       "    </tr>\n",
       "  </thead>\n",
       "  <tbody>\n",
       "    <tr>\n",
       "      <th>0</th>\n",
       "      <td>True</td>\n",
       "      <td>3</td>\n",
       "      <td>3</td>\n",
       "      <td>90000</td>\n",
       "      <td>W</td>\n",
       "      <td>3</td>\n",
       "      <td>Semi</td>\n",
       "      <td>False</td>\n",
       "      <td>True</td>\n",
       "      <td>True</td>\n",
       "      <td>...</td>\n",
       "      <td>BOTH</td>\n",
       "      <td>5</td>\n",
       "      <td>2200</td>\n",
       "      <td>USER_DASHBOARD</td>\n",
       "      <td>28000</td>\n",
       "      <td>False</td>\n",
       "      <td>False</td>\n",
       "      <td>5</td>\n",
       "      <td>BHK3</td>\n",
       "      <td>CORP_BORE</td>\n",
       "    </tr>\n",
       "    <tr>\n",
       "      <th>1</th>\n",
       "      <td>True</td>\n",
       "      <td>1</td>\n",
       "      <td>2</td>\n",
       "      <td>45000</td>\n",
       "      <td>E</td>\n",
       "      <td>2</td>\n",
       "      <td>Unfurnished</td>\n",
       "      <td>False</td>\n",
       "      <td>False</td>\n",
       "      <td>False</td>\n",
       "      <td>...</td>\n",
       "      <td>TWO_WHEELER</td>\n",
       "      <td>1</td>\n",
       "      <td>1200</td>\n",
       "      <td>USER_DASHBOARD</td>\n",
       "      <td>15000</td>\n",
       "      <td>False</td>\n",
       "      <td>False</td>\n",
       "      <td>2</td>\n",
       "      <td>BHK3</td>\n",
       "      <td>BOREWELL</td>\n",
       "    </tr>\n",
       "    <tr>\n",
       "      <th>2</th>\n",
       "      <td>True</td>\n",
       "      <td>3</td>\n",
       "      <td>3</td>\n",
       "      <td>80000</td>\n",
       "      <td>E</td>\n",
       "      <td>0</td>\n",
       "      <td>Semi</td>\n",
       "      <td>True</td>\n",
       "      <td>True</td>\n",
       "      <td>True</td>\n",
       "      <td>...</td>\n",
       "      <td>BOTH</td>\n",
       "      <td>0</td>\n",
       "      <td>1800</td>\n",
       "      <td>MISSED_CALL</td>\n",
       "      <td>16000</td>\n",
       "      <td>False</td>\n",
       "      <td>False</td>\n",
       "      <td>3</td>\n",
       "      <td>BHK3</td>\n",
       "      <td>CORP_BORE</td>\n",
       "    </tr>\n",
       "    <tr>\n",
       "      <th>3</th>\n",
       "      <td>True</td>\n",
       "      <td>1</td>\n",
       "      <td>2</td>\n",
       "      <td>18000</td>\n",
       "      <td>W</td>\n",
       "      <td>2</td>\n",
       "      <td>Unfurnished</td>\n",
       "      <td>False</td>\n",
       "      <td>True</td>\n",
       "      <td>False</td>\n",
       "      <td>...</td>\n",
       "      <td>BOTH</td>\n",
       "      <td>0</td>\n",
       "      <td>750</td>\n",
       "      <td>MISSED_CALL</td>\n",
       "      <td>9000</td>\n",
       "      <td>False</td>\n",
       "      <td>False</td>\n",
       "      <td>2</td>\n",
       "      <td>BHK2</td>\n",
       "      <td>CORP_BORE</td>\n",
       "    </tr>\n",
       "    <tr>\n",
       "      <th>4</th>\n",
       "      <td>True</td>\n",
       "      <td>2</td>\n",
       "      <td>2</td>\n",
       "      <td>80000</td>\n",
       "      <td>E</td>\n",
       "      <td>2</td>\n",
       "      <td>Semi</td>\n",
       "      <td>False</td>\n",
       "      <td>True</td>\n",
       "      <td>True</td>\n",
       "      <td>...</td>\n",
       "      <td>BOTH</td>\n",
       "      <td>5</td>\n",
       "      <td>1250</td>\n",
       "      <td>None</td>\n",
       "      <td>32500</td>\n",
       "      <td>False</td>\n",
       "      <td>False</td>\n",
       "      <td>5</td>\n",
       "      <td>BHK2</td>\n",
       "      <td>CORP_BORE</td>\n",
       "    </tr>\n",
       "  </tbody>\n",
       "</table>\n",
       "<p>5 rows × 24 columns</p>\n",
       "</div>"
      ],
      "text/plain": [
       "   active balconies  bathroom  deposit facing  floor furnishingDesc    gym  \\\n",
       "0    True         3         3    90000      W      3           Semi  False   \n",
       "1    True         1         2    45000      E      2    Unfurnished  False   \n",
       "2    True         3         3    80000      E      0           Semi   True   \n",
       "3    True         1         2    18000      W      2    Unfurnished  False   \n",
       "4    True         2         2    80000      E      2           Semi  False   \n",
       "\n",
       "   isMaintenance   lift  ...      parking property_age property_size  \\\n",
       "0           True   True  ...         BOTH            5          2200   \n",
       "1          False  False  ...  TWO_WHEELER            1          1200   \n",
       "2           True   True  ...         BOTH            0          1800   \n",
       "3           True  False  ...         BOTH            0           750   \n",
       "4           True   True  ...         BOTH            5          1250   \n",
       "\n",
       "  reactivationSource rent_amount  sharedAccomodation  swimmingPool totalFloor  \\\n",
       "0     USER_DASHBOARD       28000               False         False          5   \n",
       "1     USER_DASHBOARD       15000               False         False          2   \n",
       "2        MISSED_CALL       16000               False         False          3   \n",
       "3        MISSED_CALL        9000               False         False          2   \n",
       "4               None       32500               False         False          5   \n",
       "\n",
       "   type_bhk  waterSupply  \n",
       "0      BHK3    CORP_BORE  \n",
       "1      BHK3     BOREWELL  \n",
       "2      BHK3    CORP_BORE  \n",
       "3      BHK2    CORP_BORE  \n",
       "4      BHK2    CORP_BORE  \n",
       "\n",
       "[5 rows x 24 columns]"
      ]
     },
     "execution_count": 1227,
     "metadata": {},
     "output_type": "execute_result"
    }
   ],
   "source": [
    "data.head()"
   ]
  },
  {
   "cell_type": "code",
   "execution_count": 1228,
   "metadata": {},
   "outputs": [
    {
     "data": {
      "text/plain": [
       "active                                                       True\n",
       "balconies                                                       3\n",
       "bathroom                                                        3\n",
       "deposit                                                     90000\n",
       "facing                                                          W\n",
       "floor                                                           3\n",
       "furnishingDesc                                               Semi\n",
       "gym                                                         False\n",
       "isMaintenance                                                True\n",
       "lift                                                         True\n",
       "loanAvailable                                                True\n",
       "locality                                               Gachibowli\n",
       "location              17.465080245131944000,78.340134322090170000\n",
       "maintenanceAmount                                            2000\n",
       "parking                                                      BOTH\n",
       "property_age                                                    5\n",
       "property_size                                                2200\n",
       "reactivationSource                                 USER_DASHBOARD\n",
       "rent_amount                                                 28000\n",
       "sharedAccomodation                                          False\n",
       "swimmingPool                                                False\n",
       "totalFloor                                                      5\n",
       "type_bhk                                                     BHK3\n",
       "waterSupply                                             CORP_BORE\n",
       "Name: 0, dtype: object"
      ]
     },
     "execution_count": 1228,
     "metadata": {},
     "output_type": "execute_result"
    }
   ],
   "source": [
    "data.iloc[0]"
   ]
  },
  {
   "cell_type": "code",
   "execution_count": 1229,
   "metadata": {},
   "outputs": [],
   "source": [
    "data['type_bhk'] = data['type_bhk'].apply(lambda x : x[3] if len(x)==4 else None)"
   ]
  },
  {
   "cell_type": "code",
   "execution_count": 1230,
   "metadata": {},
   "outputs": [
    {
     "data": {
      "text/plain": [
       "2    9212\n",
       "3    4210\n",
       "1    4205\n",
       "4     210\n",
       "Name: type_bhk, dtype: int64"
      ]
     },
     "execution_count": 1230,
     "metadata": {},
     "output_type": "execute_result"
    }
   ],
   "source": [
    "data['type_bhk'].value_counts()"
   ]
  },
  {
   "cell_type": "code",
   "execution_count": 1231,
   "metadata": {},
   "outputs": [
    {
     "data": {
      "text/plain": [
       "active                   0\n",
       "balconies                0\n",
       "bathroom                 0\n",
       "deposit                  0\n",
       "facing                   0\n",
       "floor                    0\n",
       "furnishingDesc           0\n",
       "gym                      0\n",
       "isMaintenance            0\n",
       "lift                     0\n",
       "loanAvailable            0\n",
       "locality                 0\n",
       "location                 0\n",
       "maintenanceAmount        0\n",
       "parking                  0\n",
       "property_age             0\n",
       "property_size            0\n",
       "reactivationSource       0\n",
       "rent_amount              0\n",
       "sharedAccomodation       0\n",
       "swimmingPool             0\n",
       "totalFloor               0\n",
       "type_bhk              1204\n",
       "waterSupply              0\n",
       "dtype: int64"
      ]
     },
     "execution_count": 1231,
     "metadata": {},
     "output_type": "execute_result"
    }
   ],
   "source": [
    "data.isnull().sum()"
   ]
  },
  {
   "cell_type": "code",
   "execution_count": 1232,
   "metadata": {},
   "outputs": [],
   "source": [
    "data = data.dropna(axis=0,how='any')\n",
    "# removing the data without BHK values coz they are few "
   ]
  },
  {
   "cell_type": "code",
   "execution_count": 1233,
   "metadata": {},
   "outputs": [
    {
     "data": {
      "text/plain": [
       "active                0\n",
       "balconies             0\n",
       "bathroom              0\n",
       "deposit               0\n",
       "facing                0\n",
       "floor                 0\n",
       "furnishingDesc        0\n",
       "gym                   0\n",
       "isMaintenance         0\n",
       "lift                  0\n",
       "loanAvailable         0\n",
       "locality              0\n",
       "location              0\n",
       "maintenanceAmount     0\n",
       "parking               0\n",
       "property_age          0\n",
       "property_size         0\n",
       "reactivationSource    0\n",
       "rent_amount           0\n",
       "sharedAccomodation    0\n",
       "swimmingPool          0\n",
       "totalFloor            0\n",
       "type_bhk              0\n",
       "waterSupply           0\n",
       "dtype: int64"
      ]
     },
     "execution_count": 1233,
     "metadata": {},
     "output_type": "execute_result"
    }
   ],
   "source": [
    "data.isnull().sum()"
   ]
  },
  {
   "cell_type": "code",
   "execution_count": 1234,
   "metadata": {},
   "outputs": [
    {
     "data": {
      "text/plain": [
       "active                                                       True\n",
       "balconies                                                       3\n",
       "bathroom                                                        3\n",
       "deposit                                                     90000\n",
       "facing                                                          W\n",
       "floor                                                           3\n",
       "furnishingDesc                                               Semi\n",
       "gym                                                         False\n",
       "isMaintenance                                                True\n",
       "lift                                                         True\n",
       "loanAvailable                                                True\n",
       "locality                                               Gachibowli\n",
       "location              17.465080245131944000,78.340134322090170000\n",
       "maintenanceAmount                                            2000\n",
       "parking                                                      BOTH\n",
       "property_age                                                    5\n",
       "property_size                                                2200\n",
       "reactivationSource                                 USER_DASHBOARD\n",
       "rent_amount                                                 28000\n",
       "sharedAccomodation                                          False\n",
       "swimmingPool                                                False\n",
       "totalFloor                                                      5\n",
       "type_bhk                                                        3\n",
       "waterSupply                                             CORP_BORE\n",
       "Name: 0, dtype: object"
      ]
     },
     "execution_count": 1234,
     "metadata": {},
     "output_type": "execute_result"
    }
   ],
   "source": [
    "data.iloc[0]"
   ]
  },
  {
   "cell_type": "code",
   "execution_count": 1235,
   "metadata": {},
   "outputs": [],
   "source": [
    "labelencoder = LabelEncoder()"
   ]
  },
  {
   "cell_type": "code",
   "execution_count": 1236,
   "metadata": {},
   "outputs": [
    {
     "data": {
      "text/plain": [
       "other              3889\n",
       "Kukatpally         1434\n",
       "Kondapur           1179\n",
       "Gachibowli          668\n",
       "Miyapur             576\n",
       "                   ... \n",
       " Madhapur             9\n",
       "Madhura Nagar         9\n",
       " Gachibowli           9\n",
       "L. B. Nagar           8\n",
       "Jagadgiri Gutta       7\n",
       "Name: locality, Length: 211, dtype: int64"
      ]
     },
     "execution_count": 1236,
     "metadata": {},
     "output_type": "execute_result"
    }
   ],
   "source": [
    "data['locality'].value_counts()"
   ]
  },
  {
   "cell_type": "code",
   "execution_count": 1237,
   "metadata": {},
   "outputs": [],
   "source": [
    "label = labelencoder.fit_transform(data.locality)\n",
    "data.locality = label\n",
    "label = labelencoder.fit_transform(data.active)\n",
    "data.active = label\n",
    "label = labelencoder.fit_transform(data.facing)\n",
    "data.facing = label\n",
    "label = labelencoder.fit_transform(data.furnishingDesc)\n",
    "data.furnishingDesc = label\n",
    "label = labelencoder.fit_transform(data.gym)\n",
    "data.gym = label\n",
    "label = labelencoder.fit_transform(data.isMaintenance)\n",
    "data.isMaintenance = label\n",
    "label = labelencoder.fit_transform(data.lift)\n",
    "data.lift = label\n",
    "label = labelencoder.fit_transform(data.loanAvailable)\n",
    "data.loanAvailable = label\n",
    "label = labelencoder.fit_transform(data.parking)\n",
    "data.parking = label\n",
    "label = labelencoder.fit_transform(data.reactivationSource)\n",
    "data.reactivationSource = label\n",
    "label = labelencoder.fit_transform(data.sharedAccomodation)\n",
    "data.sharedAccomodation = label\n",
    "label = labelencoder.fit_transform(data.swimmingPool)\n",
    "data.swimmingPool = label\n",
    "label = labelencoder.fit_transform(data.waterSupply)\n",
    "data.waterSupply = label"
   ]
  },
  {
   "cell_type": "code",
   "execution_count": 1238,
   "metadata": {},
   "outputs": [
    {
     "data": {
      "text/plain": [
       "210    3889\n",
       "100    1434\n",
       "94     1179\n",
       "51      668\n",
       "126     576\n",
       "       ... \n",
       "4         9\n",
       "111       9\n",
       "1         9\n",
       "104       8\n",
       "74        7\n",
       "Name: locality, Length: 211, dtype: int64"
      ]
     },
     "execution_count": 1238,
     "metadata": {},
     "output_type": "execute_result"
    }
   ],
   "source": [
    "data['locality'].value_counts()"
   ]
  },
  {
   "cell_type": "code",
   "execution_count": 1239,
   "metadata": {},
   "outputs": [
    {
     "data": {
      "text/plain": [
       "active                                                          0\n",
       "balconies                                                       3\n",
       "bathroom                                                        3\n",
       "deposit                                                     90000\n",
       "facing                                                          9\n",
       "floor                                                           3\n",
       "furnishingDesc                                                  1\n",
       "gym                                                             0\n",
       "isMaintenance                                                   1\n",
       "lift                                                            1\n",
       "loanAvailable                                                   0\n",
       "locality                                                       51\n",
       "location              17.465080245131944000,78.340134322090170000\n",
       "maintenanceAmount                                            2000\n",
       "parking                                                         0\n",
       "property_age                                                    5\n",
       "property_size                                                2200\n",
       "reactivationSource                                              6\n",
       "rent_amount                                                 28000\n",
       "sharedAccomodation                                              0\n",
       "swimmingPool                                                    0\n",
       "totalFloor                                                      5\n",
       "type_bhk                                                        3\n",
       "waterSupply                                                     2\n",
       "Name: 0, dtype: object"
      ]
     },
     "execution_count": 1239,
     "metadata": {},
     "output_type": "execute_result"
    }
   ],
   "source": [
    "data.iloc[0]"
   ]
  },
  {
   "cell_type": "code",
   "execution_count": 1240,
   "metadata": {},
   "outputs": [],
   "source": [
    "data[['location-x', 'location-y']\n",
    "     ] = data['location'].str.split(',', n=2, expand=True)\n"
   ]
  },
  {
   "cell_type": "code",
   "execution_count": 1241,
   "metadata": {},
   "outputs": [
    {
     "data": {
      "text/plain": [
       "active                                                          0\n",
       "balconies                                                       3\n",
       "bathroom                                                        3\n",
       "deposit                                                     90000\n",
       "facing                                                          9\n",
       "floor                                                           3\n",
       "furnishingDesc                                                  1\n",
       "gym                                                             0\n",
       "isMaintenance                                                   1\n",
       "lift                                                            1\n",
       "loanAvailable                                                   0\n",
       "locality                                                       51\n",
       "location              17.465080245131944000,78.340134322090170000\n",
       "maintenanceAmount                                            2000\n",
       "parking                                                         0\n",
       "property_age                                                    5\n",
       "property_size                                                2200\n",
       "reactivationSource                                              6\n",
       "rent_amount                                                 28000\n",
       "sharedAccomodation                                              0\n",
       "swimmingPool                                                    0\n",
       "totalFloor                                                      5\n",
       "type_bhk                                                        3\n",
       "waterSupply                                                     2\n",
       "location-x                                  17.465080245131944000\n",
       "location-y                                  78.340134322090170000\n",
       "Name: 0, dtype: object"
      ]
     },
     "execution_count": 1241,
     "metadata": {},
     "output_type": "execute_result"
    }
   ],
   "source": [
    "data.loc[0]"
   ]
  },
  {
   "cell_type": "code",
   "execution_count": 1242,
   "metadata": {},
   "outputs": [],
   "source": [
    "del data['location']"
   ]
  },
  {
   "cell_type": "code",
   "execution_count": 1243,
   "metadata": {},
   "outputs": [
    {
     "name": "stdout",
     "output_type": "stream",
     "text": [
      "<class 'numpy.int64'>\n",
      "<class 'str'>\n",
      "<class 'numpy.int64'>\n",
      "<class 'numpy.int64'>\n",
      "<class 'numpy.int32'>\n",
      "<class 'numpy.int64'>\n",
      "<class 'numpy.int32'>\n",
      "<class 'numpy.int64'>\n",
      "<class 'numpy.int64'>\n",
      "<class 'numpy.int64'>\n",
      "<class 'numpy.int64'>\n",
      "<class 'numpy.int32'>\n",
      "<class 'str'>\n",
      "<class 'numpy.int32'>\n",
      "<class 'numpy.int64'>\n",
      "<class 'numpy.int64'>\n",
      "<class 'numpy.int32'>\n",
      "<class 'numpy.int64'>\n",
      "<class 'numpy.int64'>\n",
      "<class 'numpy.int64'>\n",
      "<class 'numpy.int64'>\n",
      "<class 'str'>\n",
      "<class 'numpy.int32'>\n",
      "<class 'str'>\n",
      "<class 'str'>\n"
     ]
    }
   ],
   "source": [
    "for i in data.iloc[0]:\n",
    "    print(type(i))\n",
    "    # print(i)"
   ]
  },
  {
   "cell_type": "code",
   "execution_count": 1244,
   "metadata": {},
   "outputs": [],
   "source": [
    "data['balconies'] = data['balconies'].apply(lambda x: x if type(x)==int else 0)\n",
    "data['maintenanceAmount'] = data['maintenanceAmount'].apply(lambda x: x if type(x)==int else 0)"
   ]
  },
  {
   "cell_type": "code",
   "execution_count": 1245,
   "metadata": {},
   "outputs": [],
   "source": [
    "data['balconies'] = data['balconies'].astype(float)\n",
    "data['location-x'] = data['location-x'].astype(float)\n",
    "data['location-y'] = data['location-y'].astype(float)\n",
    "data['type_bhk'] = data['type_bhk'].astype(float)\n",
    "data['maintenanceAmount'] = data['maintenanceAmount'].astype(float)"
   ]
  },
  {
   "cell_type": "markdown",
   "metadata": {},
   "source": [
    "OUTLINERS "
   ]
  },
  {
   "cell_type": "code",
   "execution_count": 1246,
   "metadata": {},
   "outputs": [
    {
     "data": {
      "text/html": [
       "<div>\n",
       "<style scoped>\n",
       "    .dataframe tbody tr th:only-of-type {\n",
       "        vertical-align: middle;\n",
       "    }\n",
       "\n",
       "    .dataframe tbody tr th {\n",
       "        vertical-align: top;\n",
       "    }\n",
       "\n",
       "    .dataframe thead th {\n",
       "        text-align: right;\n",
       "    }\n",
       "</style>\n",
       "<table border=\"1\" class=\"dataframe\">\n",
       "  <thead>\n",
       "    <tr style=\"text-align: right;\">\n",
       "      <th></th>\n",
       "      <th>active</th>\n",
       "      <th>balconies</th>\n",
       "      <th>bathroom</th>\n",
       "      <th>deposit</th>\n",
       "      <th>facing</th>\n",
       "      <th>floor</th>\n",
       "      <th>furnishingDesc</th>\n",
       "      <th>gym</th>\n",
       "      <th>isMaintenance</th>\n",
       "      <th>lift</th>\n",
       "      <th>...</th>\n",
       "      <th>property_size</th>\n",
       "      <th>reactivationSource</th>\n",
       "      <th>rent_amount</th>\n",
       "      <th>sharedAccomodation</th>\n",
       "      <th>swimmingPool</th>\n",
       "      <th>totalFloor</th>\n",
       "      <th>type_bhk</th>\n",
       "      <th>waterSupply</th>\n",
       "      <th>location-x</th>\n",
       "      <th>location-y</th>\n",
       "    </tr>\n",
       "  </thead>\n",
       "  <tbody>\n",
       "    <tr>\n",
       "      <th>count</th>\n",
       "      <td>17837.0</td>\n",
       "      <td>17837.0</td>\n",
       "      <td>17837.000000</td>\n",
       "      <td>1.783700e+04</td>\n",
       "      <td>17837.000000</td>\n",
       "      <td>17837.000000</td>\n",
       "      <td>17837.000000</td>\n",
       "      <td>17837.000000</td>\n",
       "      <td>17837.000000</td>\n",
       "      <td>17837.000000</td>\n",
       "      <td>...</td>\n",
       "      <td>17837.000000</td>\n",
       "      <td>17837.000000</td>\n",
       "      <td>17837.000000</td>\n",
       "      <td>17837.0</td>\n",
       "      <td>17837.000000</td>\n",
       "      <td>17837.000000</td>\n",
       "      <td>17837.000000</td>\n",
       "      <td>17837.000000</td>\n",
       "      <td>17837.000000</td>\n",
       "      <td>17837.000000</td>\n",
       "    </tr>\n",
       "    <tr>\n",
       "      <th>mean</th>\n",
       "      <td>0.0</td>\n",
       "      <td>0.0</td>\n",
       "      <td>1.955542</td>\n",
       "      <td>3.433480e+04</td>\n",
       "      <td>4.067893</td>\n",
       "      <td>2.158042</td>\n",
       "      <td>1.365084</td>\n",
       "      <td>0.080675</td>\n",
       "      <td>0.517015</td>\n",
       "      <td>0.337501</td>\n",
       "      <td>...</td>\n",
       "      <td>1110.040197</td>\n",
       "      <td>3.699950</td>\n",
       "      <td>15361.952010</td>\n",
       "      <td>0.0</td>\n",
       "      <td>0.086393</td>\n",
       "      <td>4.010147</td>\n",
       "      <td>2.023827</td>\n",
       "      <td>2.247856</td>\n",
       "      <td>17.450293</td>\n",
       "      <td>78.414848</td>\n",
       "    </tr>\n",
       "    <tr>\n",
       "      <th>std</th>\n",
       "      <td>0.0</td>\n",
       "      <td>0.0</td>\n",
       "      <td>0.710261</td>\n",
       "      <td>3.982529e+04</td>\n",
       "      <td>2.437498</td>\n",
       "      <td>2.465249</td>\n",
       "      <td>0.629531</td>\n",
       "      <td>0.272343</td>\n",
       "      <td>0.499724</td>\n",
       "      <td>0.472871</td>\n",
       "      <td>...</td>\n",
       "      <td>492.742711</td>\n",
       "      <td>1.008934</td>\n",
       "      <td>9248.670235</td>\n",
       "      <td>0.0</td>\n",
       "      <td>0.280952</td>\n",
       "      <td>3.973838</td>\n",
       "      <td>0.719949</td>\n",
       "      <td>0.883276</td>\n",
       "      <td>0.055711</td>\n",
       "      <td>0.082221</td>\n",
       "    </tr>\n",
       "    <tr>\n",
       "      <th>min</th>\n",
       "      <td>0.0</td>\n",
       "      <td>0.0</td>\n",
       "      <td>1.000000</td>\n",
       "      <td>1.000000e+00</td>\n",
       "      <td>0.000000</td>\n",
       "      <td>0.000000</td>\n",
       "      <td>0.000000</td>\n",
       "      <td>0.000000</td>\n",
       "      <td>0.000000</td>\n",
       "      <td>0.000000</td>\n",
       "      <td>...</td>\n",
       "      <td>0.000000</td>\n",
       "      <td>0.000000</td>\n",
       "      <td>0.000000</td>\n",
       "      <td>0.0</td>\n",
       "      <td>0.000000</td>\n",
       "      <td>0.000000</td>\n",
       "      <td>1.000000</td>\n",
       "      <td>0.000000</td>\n",
       "      <td>16.996283</td>\n",
       "      <td>78.184943</td>\n",
       "    </tr>\n",
       "    <tr>\n",
       "      <th>25%</th>\n",
       "      <td>0.0</td>\n",
       "      <td>0.0</td>\n",
       "      <td>1.000000</td>\n",
       "      <td>1.700000e+04</td>\n",
       "      <td>1.000000</td>\n",
       "      <td>1.000000</td>\n",
       "      <td>1.000000</td>\n",
       "      <td>0.000000</td>\n",
       "      <td>0.000000</td>\n",
       "      <td>0.000000</td>\n",
       "      <td>...</td>\n",
       "      <td>800.000000</td>\n",
       "      <td>3.000000</td>\n",
       "      <td>9000.000000</td>\n",
       "      <td>0.0</td>\n",
       "      <td>0.000000</td>\n",
       "      <td>2.000000</td>\n",
       "      <td>2.000000</td>\n",
       "      <td>2.000000</td>\n",
       "      <td>17.409257</td>\n",
       "      <td>78.358297</td>\n",
       "    </tr>\n",
       "    <tr>\n",
       "      <th>50%</th>\n",
       "      <td>0.0</td>\n",
       "      <td>0.0</td>\n",
       "      <td>2.000000</td>\n",
       "      <td>2.600000e+04</td>\n",
       "      <td>5.000000</td>\n",
       "      <td>2.000000</td>\n",
       "      <td>1.000000</td>\n",
       "      <td>0.000000</td>\n",
       "      <td>1.000000</td>\n",
       "      <td>0.000000</td>\n",
       "      <td>...</td>\n",
       "      <td>1050.000000</td>\n",
       "      <td>3.000000</td>\n",
       "      <td>13000.000000</td>\n",
       "      <td>0.0</td>\n",
       "      <td>0.000000</td>\n",
       "      <td>3.000000</td>\n",
       "      <td>2.000000</td>\n",
       "      <td>2.000000</td>\n",
       "      <td>17.460885</td>\n",
       "      <td>78.391550</td>\n",
       "    </tr>\n",
       "    <tr>\n",
       "      <th>75%</th>\n",
       "      <td>0.0</td>\n",
       "      <td>0.0</td>\n",
       "      <td>2.000000</td>\n",
       "      <td>4.000000e+04</td>\n",
       "      <td>5.000000</td>\n",
       "      <td>3.000000</td>\n",
       "      <td>2.000000</td>\n",
       "      <td>0.000000</td>\n",
       "      <td>1.000000</td>\n",
       "      <td>1.000000</td>\n",
       "      <td>...</td>\n",
       "      <td>1350.000000</td>\n",
       "      <td>5.000000</td>\n",
       "      <td>18000.000000</td>\n",
       "      <td>0.0</td>\n",
       "      <td>0.000000</td>\n",
       "      <td>5.000000</td>\n",
       "      <td>2.000000</td>\n",
       "      <td>3.000000</td>\n",
       "      <td>17.493411</td>\n",
       "      <td>78.462138</td>\n",
       "    </tr>\n",
       "    <tr>\n",
       "      <th>max</th>\n",
       "      <td>0.0</td>\n",
       "      <td>0.0</td>\n",
       "      <td>7.000000</td>\n",
       "      <td>2.000000e+06</td>\n",
       "      <td>9.000000</td>\n",
       "      <td>31.000000</td>\n",
       "      <td>2.000000</td>\n",
       "      <td>1.000000</td>\n",
       "      <td>1.000000</td>\n",
       "      <td>1.000000</td>\n",
       "      <td>...</td>\n",
       "      <td>10000.000000</td>\n",
       "      <td>6.000000</td>\n",
       "      <td>100000.000000</td>\n",
       "      <td>0.0</td>\n",
       "      <td>1.000000</td>\n",
       "      <td>80.000000</td>\n",
       "      <td>4.000000</td>\n",
       "      <td>3.000000</td>\n",
       "      <td>17.656982</td>\n",
       "      <td>78.945549</td>\n",
       "    </tr>\n",
       "  </tbody>\n",
       "</table>\n",
       "<p>8 rows × 25 columns</p>\n",
       "</div>"
      ],
      "text/plain": [
       "        active  balconies      bathroom       deposit        facing  \\\n",
       "count  17837.0    17837.0  17837.000000  1.783700e+04  17837.000000   \n",
       "mean       0.0        0.0      1.955542  3.433480e+04      4.067893   \n",
       "std        0.0        0.0      0.710261  3.982529e+04      2.437498   \n",
       "min        0.0        0.0      1.000000  1.000000e+00      0.000000   \n",
       "25%        0.0        0.0      1.000000  1.700000e+04      1.000000   \n",
       "50%        0.0        0.0      2.000000  2.600000e+04      5.000000   \n",
       "75%        0.0        0.0      2.000000  4.000000e+04      5.000000   \n",
       "max        0.0        0.0      7.000000  2.000000e+06      9.000000   \n",
       "\n",
       "              floor  furnishingDesc           gym  isMaintenance  \\\n",
       "count  17837.000000    17837.000000  17837.000000   17837.000000   \n",
       "mean       2.158042        1.365084      0.080675       0.517015   \n",
       "std        2.465249        0.629531      0.272343       0.499724   \n",
       "min        0.000000        0.000000      0.000000       0.000000   \n",
       "25%        1.000000        1.000000      0.000000       0.000000   \n",
       "50%        2.000000        1.000000      0.000000       1.000000   \n",
       "75%        3.000000        2.000000      0.000000       1.000000   \n",
       "max       31.000000        2.000000      1.000000       1.000000   \n",
       "\n",
       "               lift  ...  property_size  reactivationSource    rent_amount  \\\n",
       "count  17837.000000  ...   17837.000000        17837.000000   17837.000000   \n",
       "mean       0.337501  ...    1110.040197            3.699950   15361.952010   \n",
       "std        0.472871  ...     492.742711            1.008934    9248.670235   \n",
       "min        0.000000  ...       0.000000            0.000000       0.000000   \n",
       "25%        0.000000  ...     800.000000            3.000000    9000.000000   \n",
       "50%        0.000000  ...    1050.000000            3.000000   13000.000000   \n",
       "75%        1.000000  ...    1350.000000            5.000000   18000.000000   \n",
       "max        1.000000  ...   10000.000000            6.000000  100000.000000   \n",
       "\n",
       "       sharedAccomodation  swimmingPool    totalFloor      type_bhk  \\\n",
       "count             17837.0  17837.000000  17837.000000  17837.000000   \n",
       "mean                  0.0      0.086393      4.010147      2.023827   \n",
       "std                   0.0      0.280952      3.973838      0.719949   \n",
       "min                   0.0      0.000000      0.000000      1.000000   \n",
       "25%                   0.0      0.000000      2.000000      2.000000   \n",
       "50%                   0.0      0.000000      3.000000      2.000000   \n",
       "75%                   0.0      0.000000      5.000000      2.000000   \n",
       "max                   0.0      1.000000     80.000000      4.000000   \n",
       "\n",
       "        waterSupply    location-x    location-y  \n",
       "count  17837.000000  17837.000000  17837.000000  \n",
       "mean       2.247856     17.450293     78.414848  \n",
       "std        0.883276      0.055711      0.082221  \n",
       "min        0.000000     16.996283     78.184943  \n",
       "25%        2.000000     17.409257     78.358297  \n",
       "50%        2.000000     17.460885     78.391550  \n",
       "75%        3.000000     17.493411     78.462138  \n",
       "max        3.000000     17.656982     78.945549  \n",
       "\n",
       "[8 rows x 25 columns]"
      ]
     },
     "execution_count": 1246,
     "metadata": {},
     "output_type": "execute_result"
    }
   ],
   "source": [
    "data.describe()"
   ]
  },
  {
   "cell_type": "code",
   "execution_count": 1247,
   "metadata": {},
   "outputs": [
    {
     "data": {
      "text/plain": [
       "count    17837.000000\n",
       "mean       551.955579\n",
       "std        148.355919\n",
       "min          0.000000\n",
       "25%        475.000000\n",
       "50%        525.000000\n",
       "75%        600.000000\n",
       "max       5000.000000\n",
       "dtype: float64"
      ]
     },
     "execution_count": 1247,
     "metadata": {},
     "output_type": "execute_result"
    }
   ],
   "source": [
    "(data['property_size']/data['type_bhk']).describe()\n",
    "# There are outliners\n",
    "# lets take 250 as the minimum "
   ]
  },
  {
   "cell_type": "code",
   "execution_count": 1248,
   "metadata": {},
   "outputs": [],
   "source": [
    "data = data[((data['property_size']/data['type_bhk'])>=250)]"
   ]
  },
  {
   "cell_type": "code",
   "execution_count": 1249,
   "metadata": {},
   "outputs": [
    {
     "data": {
      "text/plain": [
       "count    17777.000000\n",
       "mean       553.285181\n",
       "std        146.753364\n",
       "min        250.000000\n",
       "25%        480.000000\n",
       "50%        525.000000\n",
       "75%        600.000000\n",
       "max       5000.000000\n",
       "dtype: float64"
      ]
     },
     "execution_count": 1249,
     "metadata": {},
     "output_type": "execute_result"
    }
   ],
   "source": [
    "(data['property_size']/data['type_bhk']).describe()"
   ]
  },
  {
   "cell_type": "code",
   "execution_count": 1250,
   "metadata": {},
   "outputs": [],
   "source": [
    "data = data[(data['property_size'])<5000]"
   ]
  },
  {
   "cell_type": "code",
   "execution_count": 1251,
   "metadata": {},
   "outputs": [
    {
     "data": {
      "text/plain": [
       "count    17773.000000\n",
       "mean         1.956901\n",
       "std          0.709291\n",
       "min          1.000000\n",
       "25%          1.000000\n",
       "50%          2.000000\n",
       "75%          2.000000\n",
       "max          6.000000\n",
       "Name: bathroom, dtype: float64"
      ]
     },
     "execution_count": 1251,
     "metadata": {},
     "output_type": "execute_result"
    }
   ],
   "source": [
    "data['bathroom'].describe()"
   ]
  },
  {
   "cell_type": "code",
   "execution_count": 1252,
   "metadata": {},
   "outputs": [
    {
     "data": {
      "text/plain": [
       "count     17773.000000\n",
       "mean      15376.353851\n",
       "std        9249.310609\n",
       "min           0.000000\n",
       "25%        9000.000000\n",
       "50%       13000.000000\n",
       "75%       18000.000000\n",
       "max      100000.000000\n",
       "Name: rent_amount, dtype: float64"
      ]
     },
     "execution_count": 1252,
     "metadata": {},
     "output_type": "execute_result"
    }
   ],
   "source": [
    "data['rent_amount'].describe()"
   ]
  },
  {
   "cell_type": "code",
   "execution_count": 1253,
   "metadata": {},
   "outputs": [
    {
     "data": {
      "text/plain": [
       "count    17773.000000\n",
       "mean      7585.403608\n",
       "std       2997.941137\n",
       "min          0.000000\n",
       "25%       5500.000000\n",
       "50%       7000.000000\n",
       "75%       9000.000000\n",
       "max      60000.000000\n",
       "dtype: float64"
      ]
     },
     "execution_count": 1253,
     "metadata": {},
     "output_type": "execute_result"
    }
   ],
   "source": [
    "(data['rent_amount']/data['type_bhk']).describe()\n",
    "# rent cant be less than a amount so they are outliners \n",
    "# lets take the minimum as 2000 and maximum as 10000"
   ]
  },
  {
   "cell_type": "code",
   "execution_count": 1254,
   "metadata": {},
   "outputs": [
    {
     "data": {
      "text/plain": [
       "(17773, 25)"
      ]
     },
     "execution_count": 1254,
     "metadata": {},
     "output_type": "execute_result"
    }
   ],
   "source": [
    "data.shape"
   ]
  },
  {
   "cell_type": "code",
   "execution_count": 1255,
   "metadata": {},
   "outputs": [],
   "source": [
    "data = data[((data['rent_amount']/data['type_bhk'])>=2500)]"
   ]
  },
  {
   "cell_type": "code",
   "execution_count": 1256,
   "metadata": {},
   "outputs": [
    {
     "data": {
      "text/plain": [
       "(17738, 25)"
      ]
     },
     "execution_count": 1256,
     "metadata": {},
     "output_type": "execute_result"
    }
   ],
   "source": [
    "data.shape"
   ]
  },
  {
   "cell_type": "code",
   "execution_count": 1257,
   "metadata": {},
   "outputs": [],
   "source": [
    "data = data[((data['rent_amount']/data['type_bhk'])<=10000)]"
   ]
  },
  {
   "cell_type": "code",
   "execution_count": 1258,
   "metadata": {},
   "outputs": [
    {
     "data": {
      "text/plain": [
       "active                    0.000000\n",
       "balconies                 0.000000\n",
       "bathroom                  0.664278\n",
       "deposit               24517.728125\n",
       "facing                    2.390076\n",
       "floor                     1.804963\n",
       "furnishingDesc            0.598791\n",
       "gym                       0.231562\n",
       "isMaintenance             0.499975\n",
       "lift                      0.460172\n",
       "loanAvailable             0.000000\n",
       "locality                 64.182346\n",
       "maintenanceAmount         0.000000\n",
       "parking                   1.421618\n",
       "property_age              3.467173\n",
       "property_size           426.236190\n",
       "reactivationSource        1.003381\n",
       "rent_amount            6027.695334\n",
       "sharedAccomodation        0.000000\n",
       "swimmingPool              0.228676\n",
       "totalFloor                2.696524\n",
       "type_bhk                  0.691137\n",
       "waterSupply               0.886966\n",
       "location-x                0.058154\n",
       "location-y                0.085020\n",
       "dtype: float64"
      ]
     },
     "execution_count": 1258,
     "metadata": {},
     "output_type": "execute_result"
    }
   ],
   "source": [
    "data.std()"
   ]
  },
  {
   "cell_type": "code",
   "execution_count": 1259,
   "metadata": {},
   "outputs": [
    {
     "data": {
      "text/plain": [
       "count    1.537400e+04\n",
       "mean     2.874150e+04\n",
       "std      2.451773e+04\n",
       "min      1.000000e+00\n",
       "25%      1.600000e+04\n",
       "50%      2.400000e+04\n",
       "75%      3.600000e+04\n",
       "max      1.200000e+06\n",
       "Name: deposit, dtype: float64"
      ]
     },
     "execution_count": 1259,
     "metadata": {},
     "output_type": "execute_result"
    }
   ],
   "source": [
    "data['deposit'].describe()"
   ]
  },
  {
   "cell_type": "code",
   "execution_count": 1260,
   "metadata": {},
   "outputs": [
    {
     "data": {
      "text/plain": [
       "(15374, 25)"
      ]
     },
     "execution_count": 1260,
     "metadata": {},
     "output_type": "execute_result"
    }
   ],
   "source": [
    "data.shape"
   ]
  },
  {
   "cell_type": "code",
   "execution_count": 1261,
   "metadata": {},
   "outputs": [
    {
     "data": {
      "text/plain": [
       "count     15374.000000\n",
       "mean      14063.761827\n",
       "std       11390.455944\n",
       "min           0.333333\n",
       "25%       10000.000000\n",
       "50%       13000.000000\n",
       "75%       16666.666667\n",
       "max      600000.000000\n",
       "dtype: float64"
      ]
     },
     "execution_count": 1261,
     "metadata": {},
     "output_type": "execute_result"
    }
   ],
   "source": [
    "(data['deposit']/data['type_bhk']).describe()\n",
    "# deposit more than 50000 per bedroom are unreasonable and are outliners \n",
    "# same for deposit less than 2500"
   ]
  },
  {
   "cell_type": "code",
   "execution_count": 1262,
   "metadata": {},
   "outputs": [],
   "source": [
    "data = data[((data['deposit']/data['type_bhk'])<=50000)]"
   ]
  },
  {
   "cell_type": "code",
   "execution_count": 1263,
   "metadata": {},
   "outputs": [
    {
     "data": {
      "text/plain": [
       "(15335, 25)"
      ]
     },
     "execution_count": 1263,
     "metadata": {},
     "output_type": "execute_result"
    }
   ],
   "source": [
    "data.shape"
   ]
  },
  {
   "cell_type": "code",
   "execution_count": 1264,
   "metadata": {},
   "outputs": [],
   "source": [
    "data = data[((data['deposit']/data['type_bhk'])>=2500)]"
   ]
  },
  {
   "cell_type": "code",
   "execution_count": 1265,
   "metadata": {},
   "outputs": [
    {
     "data": {
      "text/plain": [
       "(15272, 25)"
      ]
     },
     "execution_count": 1265,
     "metadata": {},
     "output_type": "execute_result"
    }
   ],
   "source": [
    "data.shape"
   ]
  },
  {
   "cell_type": "code",
   "execution_count": 1266,
   "metadata": {},
   "outputs": [
    {
     "data": {
      "text/html": [
       "<div>\n",
       "<style scoped>\n",
       "    .dataframe tbody tr th:only-of-type {\n",
       "        vertical-align: middle;\n",
       "    }\n",
       "\n",
       "    .dataframe tbody tr th {\n",
       "        vertical-align: top;\n",
       "    }\n",
       "\n",
       "    .dataframe thead th {\n",
       "        text-align: right;\n",
       "    }\n",
       "</style>\n",
       "<table border=\"1\" class=\"dataframe\">\n",
       "  <thead>\n",
       "    <tr style=\"text-align: right;\">\n",
       "      <th></th>\n",
       "      <th>active</th>\n",
       "      <th>balconies</th>\n",
       "      <th>bathroom</th>\n",
       "      <th>deposit</th>\n",
       "      <th>facing</th>\n",
       "      <th>floor</th>\n",
       "      <th>furnishingDesc</th>\n",
       "      <th>gym</th>\n",
       "      <th>isMaintenance</th>\n",
       "      <th>lift</th>\n",
       "      <th>...</th>\n",
       "      <th>property_size</th>\n",
       "      <th>reactivationSource</th>\n",
       "      <th>rent_amount</th>\n",
       "      <th>sharedAccomodation</th>\n",
       "      <th>swimmingPool</th>\n",
       "      <th>totalFloor</th>\n",
       "      <th>type_bhk</th>\n",
       "      <th>waterSupply</th>\n",
       "      <th>location-x</th>\n",
       "      <th>location-y</th>\n",
       "    </tr>\n",
       "  </thead>\n",
       "  <tbody>\n",
       "    <tr>\n",
       "      <th>0</th>\n",
       "      <td>0</td>\n",
       "      <td>0.0</td>\n",
       "      <td>3</td>\n",
       "      <td>90000</td>\n",
       "      <td>9</td>\n",
       "      <td>3</td>\n",
       "      <td>1</td>\n",
       "      <td>0</td>\n",
       "      <td>1</td>\n",
       "      <td>1</td>\n",
       "      <td>...</td>\n",
       "      <td>2200</td>\n",
       "      <td>6</td>\n",
       "      <td>28000</td>\n",
       "      <td>0</td>\n",
       "      <td>0</td>\n",
       "      <td>5</td>\n",
       "      <td>3.0</td>\n",
       "      <td>2</td>\n",
       "      <td>17.465080</td>\n",
       "      <td>78.340134</td>\n",
       "    </tr>\n",
       "    <tr>\n",
       "      <th>1</th>\n",
       "      <td>0</td>\n",
       "      <td>0.0</td>\n",
       "      <td>2</td>\n",
       "      <td>45000</td>\n",
       "      <td>1</td>\n",
       "      <td>2</td>\n",
       "      <td>2</td>\n",
       "      <td>0</td>\n",
       "      <td>0</td>\n",
       "      <td>0</td>\n",
       "      <td>...</td>\n",
       "      <td>1200</td>\n",
       "      <td>6</td>\n",
       "      <td>15000</td>\n",
       "      <td>0</td>\n",
       "      <td>0</td>\n",
       "      <td>2</td>\n",
       "      <td>3.0</td>\n",
       "      <td>0</td>\n",
       "      <td>17.320234</td>\n",
       "      <td>78.467766</td>\n",
       "    </tr>\n",
       "    <tr>\n",
       "      <th>2</th>\n",
       "      <td>0</td>\n",
       "      <td>0.0</td>\n",
       "      <td>3</td>\n",
       "      <td>80000</td>\n",
       "      <td>1</td>\n",
       "      <td>0</td>\n",
       "      <td>1</td>\n",
       "      <td>1</td>\n",
       "      <td>1</td>\n",
       "      <td>1</td>\n",
       "      <td>...</td>\n",
       "      <td>1800</td>\n",
       "      <td>2</td>\n",
       "      <td>16000</td>\n",
       "      <td>0</td>\n",
       "      <td>0</td>\n",
       "      <td>3</td>\n",
       "      <td>3.0</td>\n",
       "      <td>2</td>\n",
       "      <td>17.403649</td>\n",
       "      <td>78.379442</td>\n",
       "    </tr>\n",
       "    <tr>\n",
       "      <th>3</th>\n",
       "      <td>0</td>\n",
       "      <td>0.0</td>\n",
       "      <td>2</td>\n",
       "      <td>18000</td>\n",
       "      <td>9</td>\n",
       "      <td>2</td>\n",
       "      <td>2</td>\n",
       "      <td>0</td>\n",
       "      <td>1</td>\n",
       "      <td>0</td>\n",
       "      <td>...</td>\n",
       "      <td>750</td>\n",
       "      <td>2</td>\n",
       "      <td>9000</td>\n",
       "      <td>0</td>\n",
       "      <td>0</td>\n",
       "      <td>2</td>\n",
       "      <td>2.0</td>\n",
       "      <td>2</td>\n",
       "      <td>17.344880</td>\n",
       "      <td>78.543747</td>\n",
       "    </tr>\n",
       "    <tr>\n",
       "      <th>6</th>\n",
       "      <td>0</td>\n",
       "      <td>0.0</td>\n",
       "      <td>2</td>\n",
       "      <td>60000</td>\n",
       "      <td>1</td>\n",
       "      <td>20</td>\n",
       "      <td>1</td>\n",
       "      <td>1</td>\n",
       "      <td>1</td>\n",
       "      <td>1</td>\n",
       "      <td>...</td>\n",
       "      <td>1198</td>\n",
       "      <td>3</td>\n",
       "      <td>29000</td>\n",
       "      <td>0</td>\n",
       "      <td>1</td>\n",
       "      <td>24</td>\n",
       "      <td>3.0</td>\n",
       "      <td>2</td>\n",
       "      <td>17.423191</td>\n",
       "      <td>78.340685</td>\n",
       "    </tr>\n",
       "  </tbody>\n",
       "</table>\n",
       "<p>5 rows × 25 columns</p>\n",
       "</div>"
      ],
      "text/plain": [
       "   active  balconies  bathroom  deposit  facing  floor  furnishingDesc  gym  \\\n",
       "0       0        0.0         3    90000       9      3               1    0   \n",
       "1       0        0.0         2    45000       1      2               2    0   \n",
       "2       0        0.0         3    80000       1      0               1    1   \n",
       "3       0        0.0         2    18000       9      2               2    0   \n",
       "6       0        0.0         2    60000       1     20               1    1   \n",
       "\n",
       "   isMaintenance  lift  ...  property_size  reactivationSource  rent_amount  \\\n",
       "0              1     1  ...           2200                   6        28000   \n",
       "1              0     0  ...           1200                   6        15000   \n",
       "2              1     1  ...           1800                   2        16000   \n",
       "3              1     0  ...            750                   2         9000   \n",
       "6              1     1  ...           1198                   3        29000   \n",
       "\n",
       "   sharedAccomodation  swimmingPool  totalFloor  type_bhk  waterSupply  \\\n",
       "0                   0             0           5       3.0            2   \n",
       "1                   0             0           2       3.0            0   \n",
       "2                   0             0           3       3.0            2   \n",
       "3                   0             0           2       2.0            2   \n",
       "6                   0             1          24       3.0            2   \n",
       "\n",
       "   location-x  location-y  \n",
       "0   17.465080   78.340134  \n",
       "1   17.320234   78.467766  \n",
       "2   17.403649   78.379442  \n",
       "3   17.344880   78.543747  \n",
       "6   17.423191   78.340685  \n",
       "\n",
       "[5 rows x 25 columns]"
      ]
     },
     "execution_count": 1266,
     "metadata": {},
     "output_type": "execute_result"
    }
   ],
   "source": [
    "data.head()"
   ]
  },
  {
   "cell_type": "code",
   "execution_count": 1267,
   "metadata": {},
   "outputs": [
    {
     "data": {
      "text/plain": [
       "count    15272.000000\n",
       "mean         1.924633\n",
       "std          0.663967\n",
       "min          1.000000\n",
       "25%          1.000000\n",
       "50%          2.000000\n",
       "75%          2.000000\n",
       "max          6.000000\n",
       "Name: bathroom, dtype: float64"
      ]
     },
     "execution_count": 1267,
     "metadata": {},
     "output_type": "execute_result"
    }
   ],
   "source": [
    "data['bathroom'].describe()"
   ]
  },
  {
   "cell_type": "code",
   "execution_count": 1268,
   "metadata": {},
   "outputs": [
    {
     "data": {
      "image/png": "[encoded data removed]",
      "text/plain": [
       "<Figure size 432x288 with 1 Axes>"
      ]
     },
     "metadata": {
      "needs_background": "light"
     },
     "output_type": "display_data"
    }
   ],
   "source": [
    "y = data['rent_amount']\n",
    "x = data['deposit']\n",
    "fig2 = plt.figure()\n",
    "ax = fig2.add_axes([0,0,1,1])\n",
    "ax.scatter(x,y,color=\"g\")\n",
    "plt.show()\n",
    "# Removing outliners by using scatter graphs"
   ]
  },
  {
   "cell_type": "code",
   "execution_count": 1269,
   "metadata": {},
   "outputs": [],
   "source": [
    "data = data[(data['deposit']<200000)]"
   ]
  },
  {
   "cell_type": "code",
   "execution_count": 1270,
   "metadata": {},
   "outputs": [
    {
     "data": {
      "image/png": "[encoded data removed]",
      "text/plain": [
       "<Figure size 432x288 with 1 Axes>"
      ]
     },
     "metadata": {
      "needs_background": "light"
     },
     "output_type": "display_data"
    }
   ],
   "source": [
    "y = data['rent_amount']\n",
    "x = data['type_bhk']\n",
    "fig2 = plt.figure()\n",
    "ax = fig2.add_axes([0,0,1,1])\n",
    "ax.scatter(x,y,color=\"g\")\n",
    "plt.show()\n",
    "# no ouliners"
   ]
  },
  {
   "cell_type": "code",
   "execution_count": 1271,
   "metadata": {},
   "outputs": [
    {
     "data": {
      "image/png": "[encoded data removed]",
      "text/plain": [
       "<Figure size 432x288 with 1 Axes>"
      ]
     },
     "metadata": {
      "needs_background": "light"
     },
     "output_type": "display_data"
    }
   ],
   "source": [
    "y = data['rent_amount']\n",
    "x = data['rent_amount']\n",
    "fig2 = plt.figure()\n",
    "ax = fig2.add_axes([0,0,1,1])\n",
    "ax.scatter(x,y,color=\"g\")\n",
    "plt.show()"
   ]
  },
  {
   "cell_type": "code",
   "execution_count": 1272,
   "metadata": {},
   "outputs": [
    {
     "data": {
      "image/png": "[encoded data removed]",
      "text/plain": [
       "<Figure size 432x288 with 1 Axes>"
      ]
     },
     "metadata": {
      "needs_background": "light"
     },
     "output_type": "display_data"
    }
   ],
   "source": [
    "y = data['deposit']\n",
    "x = data['type_bhk']\n",
    "fig2 = plt.figure()\n",
    "ax = fig2.add_axes([0,0,1,1])\n",
    "ax.scatter(x,y,color=\"g\")\n",
    "plt.show()"
   ]
  },
  {
   "cell_type": "code",
   "execution_count": 1273,
   "metadata": {},
   "outputs": [
    {
     "data": {
      "image/png": "[encoded data removed]",
      "text/plain": [
       "<Figure size 432x288 with 1 Axes>"
      ]
     },
     "metadata": {
      "needs_background": "light"
     },
     "output_type": "display_data"
    }
   ],
   "source": [
    "y = data['property_size']\n",
    "x = data['rent_amount']\n",
    "fig2 = plt.figure()\n",
    "ax = fig2.add_axes([0,0,1,1])\n",
    "ax.scatter(x,y,color=\"g\")\n",
    "plt.show()"
   ]
  },
  {
   "cell_type": "code",
   "execution_count": 1274,
   "metadata": {},
   "outputs": [
    {
     "data": {
      "text/plain": [
       "array([[ 0.        ,  0.        ,  1.61961683, ..., -0.29676165,\n",
       "         0.23074833, -0.93495127],\n",
       "       [ 0.        ,  0.        ,  0.11351717, ..., -2.55085125,\n",
       "        -2.2599497 ,  0.56514718],\n",
       "       [ 0.        ,  0.        ,  1.61961683, ..., -0.29676165,\n",
       "        -0.82558775, -0.47295317],\n",
       "       ...,\n",
       "       [ 0.        ,  0.        ,  1.61961683, ...,  0.83028315,\n",
       "         0.37385781,  0.02224183],\n",
       "       [ 0.        ,  0.        , -1.39258249, ...,  0.83028315,\n",
       "         0.80885877, -0.05592774],\n",
       "       [ 0.        ,  0.        , -1.39258249, ...,  0.83028315,\n",
       "        -1.73580427,  1.03723751]])"
      ]
     },
     "execution_count": 1274,
     "metadata": {},
     "output_type": "execute_result"
    }
   ],
   "source": [
    "scaler = StandardScaler()\n",
    "scaler.fit_transform(data)"
   ]
  },
  {
   "cell_type": "code",
   "execution_count": 1275,
   "metadata": {},
   "outputs": [
    {
     "data": {
      "text/plain": [
       "active                    0.000000\n",
       "balconies                 0.000000\n",
       "bathroom                  0.663988\n",
       "deposit               16816.007269\n",
       "facing                    2.390406\n",
       "floor                     1.804322\n",
       "furnishingDesc            0.598908\n",
       "gym                       0.231544\n",
       "isMaintenance             0.499964\n",
       "lift                      0.460460\n",
       "loanAvailable             0.000000\n",
       "locality                 64.171321\n",
       "maintenanceAmount         0.000000\n",
       "parking                   1.421725\n",
       "property_age              3.467620\n",
       "property_size           425.480736\n",
       "reactivationSource        1.003144\n",
       "rent_amount            6015.075385\n",
       "sharedAccomodation        0.000000\n",
       "swimmingPool              0.228510\n",
       "totalFloor                2.697091\n",
       "type_bhk                  0.690667\n",
       "waterSupply               0.887305\n",
       "location-x                0.058157\n",
       "location-y                0.085085\n",
       "dtype: float64"
      ]
     },
     "execution_count": 1275,
     "metadata": {},
     "output_type": "execute_result"
    }
   ],
   "source": [
    "data.std()"
   ]
  },
  {
   "cell_type": "code",
   "execution_count": 1276,
   "metadata": {},
   "outputs": [],
   "source": [
    "data['active'].value_counts()\n",
    "del data['active']"
   ]
  },
  {
   "cell_type": "code",
   "execution_count": 1277,
   "metadata": {},
   "outputs": [],
   "source": [
    "y = data['rent_amount']\n",
    "x = data.drop(columns='rent_amount',axis=1)"
   ]
  },
  {
   "cell_type": "code",
   "execution_count": 1278,
   "metadata": {},
   "outputs": [],
   "source": [
    "x_train, x_test, y_train, y_test = train_test_split(x,y,test_size=0.2,random_state=3)"
   ]
  },
  {
   "cell_type": "code",
   "execution_count": 1279,
   "metadata": {},
   "outputs": [],
   "source": [
    "model = LinearRegression()"
   ]
  },
  {
   "cell_type": "code",
   "execution_count": 1280,
   "metadata": {},
   "outputs": [
    {
     "data": {
      "text/plain": [
       "LinearRegression()"
      ]
     },
     "execution_count": 1280,
     "metadata": {},
     "output_type": "execute_result"
    }
   ],
   "source": [
    "model.fit(x_train,y_train)"
   ]
  },
  {
   "cell_type": "code",
   "execution_count": 1281,
   "metadata": {},
   "outputs": [
    {
     "name": "stdout",
     "output_type": "stream",
     "text": [
      "[ 0.00000000e+00  4.24355829e+02  1.92364131e-01 -1.82222840e+01\n",
      "  5.09341946e+01 -7.87136588e+02  4.27606983e+02 -3.35099997e+02\n",
      "  5.83438993e+02  1.13686838e-12 -2.41657805e+00 -2.27373675e-13\n",
      " -3.00179013e+00 -1.53478979e+01  1.64579735e+00  2.41478219e+01\n",
      " -1.81898940e-12  2.78274057e+02  1.34126392e+02  1.70465732e+03\n",
      "  1.13041261e+02 -4.37742543e+03 -8.37036699e+03]\n"
     ]
    }
   ],
   "source": [
    "print(model.coef_)\n",
    "# coef are all the inputs we have given "
   ]
  },
  {
   "cell_type": "code",
   "execution_count": 1282,
   "metadata": {},
   "outputs": [],
   "source": [
    "y_pred = model.predict(x_test)\n"
   ]
  },
  {
   "cell_type": "code",
   "execution_count": 1283,
   "metadata": {},
   "outputs": [
    {
     "name": "stdout",
     "output_type": "stream",
     "text": [
      "[ 9871.95270644 10275.05798894 16796.89541163 ... 15494.39167797\n",
      " 15242.96375018 15412.23852407]\n"
     ]
    }
   ],
   "source": [
    "print(y_pred)"
   ]
  },
  {
   "cell_type": "code",
   "execution_count": 1284,
   "metadata": {},
   "outputs": [
    {
     "name": "stdout",
     "output_type": "stream",
     "text": [
      "13078    10000\n",
      "2221      9500\n",
      "5830     20000\n",
      "12763     6000\n",
      "1305     22000\n",
      "         ...  \n",
      "11959     7500\n",
      "12019    10000\n",
      "11296    17000\n",
      "5339     15000\n",
      "6508     16000\n",
      "Name: rent_amount, Length: 3055, dtype: int64\n"
     ]
    }
   ],
   "source": [
    "print(y_test)"
   ]
  },
  {
   "cell_type": "code",
   "execution_count": 1285,
   "metadata": {},
   "outputs": [
    {
     "name": "stdout",
     "output_type": "stream",
     "text": [
      "5135679.877161889\n"
     ]
    }
   ],
   "source": [
    "print(mean_squared_error(y_pred=y_pred,y_true=y_test))\n",
    "# 4996735"
   ]
  },
  {
   "cell_type": "code",
   "execution_count": 1286,
   "metadata": {},
   "outputs": [
    {
     "data": {
      "text/plain": [
       "balconies                 0.000000\n",
       "bathroom                  2.000000\n",
       "deposit               20000.000000\n",
       "facing                    5.000000\n",
       "floor                     1.000000\n",
       "furnishingDesc            2.000000\n",
       "gym                       0.000000\n",
       "isMaintenance             1.000000\n",
       "lift                      0.000000\n",
       "loanAvailable             0.000000\n",
       "locality                114.000000\n",
       "maintenanceAmount         0.000000\n",
       "parking                   3.000000\n",
       "property_age              5.000000\n",
       "property_size          1000.000000\n",
       "reactivationSource        5.000000\n",
       "sharedAccomodation        0.000000\n",
       "swimmingPool              0.000000\n",
       "totalFloor                2.000000\n",
       "type_bhk                  2.000000\n",
       "waterSupply               3.000000\n",
       "location-x               17.446338\n",
       "location-y               78.535506\n",
       "Name: 13078, dtype: float64"
      ]
     },
     "execution_count": 1286,
     "metadata": {},
     "output_type": "execute_result"
    }
   ],
   "source": [
    "x_test.iloc[0]"
   ]
  },
  {
   "cell_type": "code",
   "execution_count": 1287,
   "metadata": {},
   "outputs": [
    {
     "name": "stdout",
     "output_type": "stream",
     "text": [
      "[9871.94934428]\n"
     ]
    },
    {
     "name": "stderr",
     "output_type": "stream",
     "text": [
      "c:\\Users\\SAI VARSHITH\\Desktop\\ML\\venv\\lib\\site-packages\\sklearn\\base.py:450: UserWarning: X does not have valid feature names, but LinearRegression was fitted with feature names\n",
      "  warnings.warn(\n"
     ]
    }
   ],
   "source": [
    "balconies = 0.000000\n",
    "bathroom = 2.000000\n",
    "deposit = 20000.000000\n",
    "facing = 5.000000\n",
    "floor = 1.000000\n",
    "furnishingDesc = 2.000000\n",
    "gym = 0.000000\n",
    "isMaintenance = 1.000000\n",
    "lift = 0.000000\n",
    "loanAvailable = 0.000000\n",
    "locality = 114.000000\n",
    "maintenanceAmount = 0.000000\n",
    "parking = 3.000000\n",
    "property_age = 5.000000\n",
    "property_size = 1000.000000\n",
    "reactivationSource = 5.000000\n",
    "sharedAccomodation = 0.000000\n",
    "swimmingPool = 0.000000\n",
    "totalFloor = 2.000000\n",
    "type_bhk = 2.000000\n",
    "waterSupply = 3.000000\n",
    "location_x = 17.446338\n",
    "location_y = 78.535506\n",
    "input_data = np.array([balconies,bathroom,deposit,facing,floor, furnishingDesc, gym,isMaintenance,lift,loanAvailable,locality,maintenanceAmount, parking,property_age,\n",
    "property_size,reactivationSource,sharedAccomodation,swimmingPool,totalFloor,type_bhk,waterSupply,location_x,location_y])\n",
    "input_data = input_data.reshape(1,-1)\n",
    "sol = model.predict(input_data)\n",
    "print(sol)"
   ]
  }
 ],
 "metadata": {
  "interpreter": {
   "hash": "6b41ef7670266d03b8c1d51981e5e179bec41dc32367c8e291434a82e4c281ea"
  },
  "kernelspec": {
   "display_name": "Python 3.10.1 ('venv': venv)",
   "language": "python",
   "name": "python3"
  },
  "language_info": {
   "codemirror_mode": {
    "name": "ipython",
    "version": 3
   },
   "file_extension": ".py",
   "mimetype": "text/x-python",
   "name": "python",
   "nbconvert_exporter": "python",
   "pygments_lexer": "ipython3",
   "version": "3.10.1"
  },
  "orig_nbformat": 4
 },
 "nbformat": 4,
 "nbformat_minor": 2
}
