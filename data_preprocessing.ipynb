{
 "cells": [
  {
   "cell_type": "code",
   "execution_count": 869,
   "metadata": {},
   "outputs": [],
   "source": [
    "import numpy as np\n",
    "import pandas as pd\n",
    "from sklearn.preprocessing import StandardScaler\n",
    "from sklearn.model_selection import train_test_split\n",
    "from sklearn.preprocessing import LabelEncoder"
   ]
  },
  {
   "cell_type": "code",
   "execution_count": 870,
   "metadata": {},
   "outputs": [],
   "source": [
    "data = pd.read_csv(\"hyd_v2.csv\")\n"
   ]
  },
  {
   "cell_type": "code",
   "execution_count": 871,
   "metadata": {},
   "outputs": [
    {
     "data": {
      "text/plain": [
       "(19110, 36)"
      ]
     },
     "execution_count": 871,
     "metadata": {},
     "output_type": "execute_result"
    }
   ],
   "source": [
    "data.shape\n"
   ]
  },
  {
   "cell_type": "code",
   "execution_count": 872,
   "metadata": {},
   "outputs": [
    {
     "data": {
      "text/html": [
       "<div>\n",
       "<style scoped>\n",
       "    .dataframe tbody tr th:only-of-type {\n",
       "        vertical-align: middle;\n",
       "    }\n",
       "\n",
       "    .dataframe tbody tr th {\n",
       "        vertical-align: top;\n",
       "    }\n",
       "\n",
       "    .dataframe thead th {\n",
       "        text-align: right;\n",
       "    }\n",
       "</style>\n",
       "<table border=\"1\" class=\"dataframe\">\n",
       "  <thead>\n",
       "    <tr style=\"text-align: right;\">\n",
       "      <th></th>\n",
       "      <th>active</th>\n",
       "      <th>amenities</th>\n",
       "      <th>balconies</th>\n",
       "      <th>bathroom</th>\n",
       "      <th>combineDescription</th>\n",
       "      <th>completeStreetName</th>\n",
       "      <th>deposit</th>\n",
       "      <th>facing</th>\n",
       "      <th>facingDesc</th>\n",
       "      <th>floor</th>\n",
       "      <th>...</th>\n",
       "      <th>property_size</th>\n",
       "      <th>reactivationSource</th>\n",
       "      <th>rent_amount</th>\n",
       "      <th>sharedAccomodation</th>\n",
       "      <th>shortUrl</th>\n",
       "      <th>swimmingPool</th>\n",
       "      <th>totalFloor</th>\n",
       "      <th>type_bhk</th>\n",
       "      <th>waterSupply</th>\n",
       "      <th>weight</th>\n",
       "    </tr>\n",
       "  </thead>\n",
       "  <tbody>\n",
       "    <tr>\n",
       "      <th>0</th>\n",
       "      <td>True</td>\n",
       "      <td>{\"LIFT\":true,\"GYM\":false,\"INTERNET\":false,\"AC\"...</td>\n",
       "      <td>3</td>\n",
       "      <td>3</td>\n",
       "      <td>NaN</td>\n",
       "      <td>Shreya carnation, Block I, NCB Enclave, Gachib...</td>\n",
       "      <td>90000</td>\n",
       "      <td>W</td>\n",
       "      <td>West</td>\n",
       "      <td>3</td>\n",
       "      <td>...</td>\n",
       "      <td>2200</td>\n",
       "      <td>USER_DASHBOARD</td>\n",
       "      <td>28000</td>\n",
       "      <td>False</td>\n",
       "      <td>http://nobr.kr/sv/9Kvqj</td>\n",
       "      <td>False</td>\n",
       "      <td>5</td>\n",
       "      <td>BHK3</td>\n",
       "      <td>CORP_BORE</td>\n",
       "      <td>NaN</td>\n",
       "    </tr>\n",
       "    <tr>\n",
       "      <th>1</th>\n",
       "      <td>True</td>\n",
       "      <td>{\"LIFT\":false,\"GYM\":false,\"INTERNET\":false,\"AC...</td>\n",
       "      <td>1</td>\n",
       "      <td>2</td>\n",
       "      <td>NaN</td>\n",
       "      <td>Inner Ring Rd,  near RTO Bandlaguda South Zone</td>\n",
       "      <td>45000</td>\n",
       "      <td>E</td>\n",
       "      <td>East</td>\n",
       "      <td>2</td>\n",
       "      <td>...</td>\n",
       "      <td>1200</td>\n",
       "      <td>USER_DASHBOARD</td>\n",
       "      <td>15000</td>\n",
       "      <td>False</td>\n",
       "      <td>http://nobr.kr/sv/j2pD6</td>\n",
       "      <td>False</td>\n",
       "      <td>2</td>\n",
       "      <td>BHK3</td>\n",
       "      <td>BOREWELL</td>\n",
       "      <td>NaN</td>\n",
       "    </tr>\n",
       "    <tr>\n",
       "      <th>2</th>\n",
       "      <td>True</td>\n",
       "      <td>{\"LIFT\":true,\"GYM\":true,\"INTERNET\":false,\"AC\":...</td>\n",
       "      <td>3</td>\n",
       "      <td>3</td>\n",
       "      <td>NaN</td>\n",
       "      <td>Rd Number 2, Shirdi Sai Nagar, Manikonda, Hyde...</td>\n",
       "      <td>80000</td>\n",
       "      <td>E</td>\n",
       "      <td>East</td>\n",
       "      <td>0</td>\n",
       "      <td>...</td>\n",
       "      <td>1800</td>\n",
       "      <td>MISSED_CALL</td>\n",
       "      <td>16000</td>\n",
       "      <td>False</td>\n",
       "      <td>http://nobr.kr/sv/TXJmj</td>\n",
       "      <td>False</td>\n",
       "      <td>3</td>\n",
       "      <td>BHK3</td>\n",
       "      <td>CORP_BORE</td>\n",
       "      <td>NaN</td>\n",
       "    </tr>\n",
       "    <tr>\n",
       "      <th>3</th>\n",
       "      <td>True</td>\n",
       "      <td>{\"LIFT\":false,\"GYM\":false,\"INTERNET\":false,\"AC...</td>\n",
       "      <td>1</td>\n",
       "      <td>2</td>\n",
       "      <td>NaN</td>\n",
       "      <td>Plot No. 44, Road No. 1/A, kakatiya colony, LB...</td>\n",
       "      <td>18000</td>\n",
       "      <td>W</td>\n",
       "      <td>West</td>\n",
       "      <td>2</td>\n",
       "      <td>...</td>\n",
       "      <td>750</td>\n",
       "      <td>MISSED_CALL</td>\n",
       "      <td>9000</td>\n",
       "      <td>False</td>\n",
       "      <td>http://nobr.kr/sv/FnCsf</td>\n",
       "      <td>False</td>\n",
       "      <td>2</td>\n",
       "      <td>BHK2</td>\n",
       "      <td>CORP_BORE</td>\n",
       "      <td>NaN</td>\n",
       "    </tr>\n",
       "    <tr>\n",
       "      <th>4</th>\n",
       "      <td>True</td>\n",
       "      <td>{\"LIFT\":true,\"GYM\":false,\"INTERNET\":false,\"AC\"...</td>\n",
       "      <td>2</td>\n",
       "      <td>2</td>\n",
       "      <td>NaN</td>\n",
       "      <td>Madhapur HUDA Techno Enclave,  Near MaxCure Su...</td>\n",
       "      <td>80000</td>\n",
       "      <td>E</td>\n",
       "      <td>East</td>\n",
       "      <td>2</td>\n",
       "      <td>...</td>\n",
       "      <td>1250</td>\n",
       "      <td>None</td>\n",
       "      <td>32500</td>\n",
       "      <td>False</td>\n",
       "      <td>http://nobr.kr/sv/BQFRb</td>\n",
       "      <td>False</td>\n",
       "      <td>5</td>\n",
       "      <td>BHK2</td>\n",
       "      <td>CORP_BORE</td>\n",
       "      <td>NaN</td>\n",
       "    </tr>\n",
       "  </tbody>\n",
       "</table>\n",
       "<p>5 rows × 36 columns</p>\n",
       "</div>"
      ],
      "text/plain": [
       "   active                                          amenities balconies  \\\n",
       "0    True  {\"LIFT\":true,\"GYM\":false,\"INTERNET\":false,\"AC\"...         3   \n",
       "1    True  {\"LIFT\":false,\"GYM\":false,\"INTERNET\":false,\"AC...         1   \n",
       "2    True  {\"LIFT\":true,\"GYM\":true,\"INTERNET\":false,\"AC\":...         3   \n",
       "3    True  {\"LIFT\":false,\"GYM\":false,\"INTERNET\":false,\"AC...         1   \n",
       "4    True  {\"LIFT\":true,\"GYM\":false,\"INTERNET\":false,\"AC\"...         2   \n",
       "\n",
       "   bathroom  combineDescription  \\\n",
       "0         3                 NaN   \n",
       "1         2                 NaN   \n",
       "2         3                 NaN   \n",
       "3         2                 NaN   \n",
       "4         2                 NaN   \n",
       "\n",
       "                                  completeStreetName  deposit facing  \\\n",
       "0  Shreya carnation, Block I, NCB Enclave, Gachib...    90000      W   \n",
       "1     Inner Ring Rd,  near RTO Bandlaguda South Zone    45000      E   \n",
       "2  Rd Number 2, Shirdi Sai Nagar, Manikonda, Hyde...    80000      E   \n",
       "3  Plot No. 44, Road No. 1/A, kakatiya colony, LB...    18000      W   \n",
       "4  Madhapur HUDA Techno Enclave,  Near MaxCure Su...    80000      E   \n",
       "\n",
       "  facingDesc  floor  ... property_size  reactivationSource rent_amount  \\\n",
       "0       West      3  ...          2200      USER_DASHBOARD       28000   \n",
       "1       East      2  ...          1200      USER_DASHBOARD       15000   \n",
       "2       East      0  ...          1800         MISSED_CALL       16000   \n",
       "3       West      2  ...           750         MISSED_CALL        9000   \n",
       "4       East      2  ...          1250                None       32500   \n",
       "\n",
       "   sharedAccomodation                 shortUrl  swimmingPool totalFloor  \\\n",
       "0               False  http://nobr.kr/sv/9Kvqj         False          5   \n",
       "1               False  http://nobr.kr/sv/j2pD6         False          2   \n",
       "2               False  http://nobr.kr/sv/TXJmj         False          3   \n",
       "3               False  http://nobr.kr/sv/FnCsf         False          2   \n",
       "4               False  http://nobr.kr/sv/BQFRb         False          5   \n",
       "\n",
       "  type_bhk waterSupply weight  \n",
       "0     BHK3   CORP_BORE    NaN  \n",
       "1     BHK3    BOREWELL    NaN  \n",
       "2     BHK3   CORP_BORE    NaN  \n",
       "3     BHK2   CORP_BORE    NaN  \n",
       "4     BHK2   CORP_BORE    NaN  \n",
       "\n",
       "[5 rows x 36 columns]"
      ]
     },
     "execution_count": 872,
     "metadata": {},
     "output_type": "execute_result"
    }
   ],
   "source": [
    "data.head()\n",
    "# id, locality_id, ownerName, propertyType, shortUrl, weigth, propertyType, completeStreetName, facingDesc, parkingDesc can be droped\n",
    "# because they are not needed or are already elaborated in other coumns\n"
   ]
  },
  {
   "cell_type": "code",
   "execution_count": 873,
   "metadata": {},
   "outputs": [],
   "source": [
    "data = data.drop(columns=['id', 'localityId', 'ownerName', 'propertyType', 'shortUrl',\n",
    "                 'weight', 'propertyType', 'completeStreetName', 'facingDesc', 'parkingDesc','combineDescription'], axis=1)\n"
   ]
  },
  {
   "cell_type": "code",
   "execution_count": 874,
   "metadata": {},
   "outputs": [
    {
     "data": {
      "text/plain": [
       "(19110, 26)"
      ]
     },
     "execution_count": 874,
     "metadata": {},
     "output_type": "execute_result"
    }
   ],
   "source": [
    "data.shape\n"
   ]
  },
  {
   "cell_type": "code",
   "execution_count": 875,
   "metadata": {},
   "outputs": [
    {
     "data": {
      "text/plain": [
       "Index(['active', 'amenities', 'balconies', 'bathroom', 'deposit', 'facing',\n",
       "       'floor', 'furnishingDesc', 'gym', 'isMaintenance', 'lift',\n",
       "       'loanAvailable', 'locality', 'location', 'maintenanceAmount', 'parking',\n",
       "       'propertyTitle', 'property_age', 'property_size', 'reactivationSource',\n",
       "       'rent_amount', 'sharedAccomodation', 'swimmingPool', 'totalFloor',\n",
       "       'type_bhk', 'waterSupply'],\n",
       "      dtype='object')"
      ]
     },
     "execution_count": 875,
     "metadata": {},
     "output_type": "execute_result"
    }
   ],
   "source": [
    "data.columns\n"
   ]
  },
  {
   "cell_type": "code",
   "execution_count": 876,
   "metadata": {},
   "outputs": [],
   "source": [
    "# def amenities(dictionary):\n",
    "#     dictionary = f'{dictionary}'\n",
    "#     # print(type(dictionary))\n",
    "#     dictionary = json.loads(dictionary)\n",
    "#     print(type(dictionary))\n",
    "#     # available = 0\n",
    "#     # for i in dictionary.values():\n",
    "#     #     if i == true:\n",
    "#     #         available += 1\n",
    "#     # print(available/19)\n",
    "#     print(dictionary)\n",
    "\n",
    "\n",
    "# # a = amenities('{\"LIFT\": true, \"GYM\": false, \"INTERNET\": false, \"AC\": false, \"CLUB\": false, \"INTERCOM\": false, \"POOL\": false, \"CPA\": true, \"FS\": false,\"SERVANT\": false, \"SECURITY\": true, \"SC\": false, \"GP\": false, \"PARK\": false, \"RWH\": true, \"STP\": false, \"HK\": false, \"PB\": true, \"VP\": true}')\n",
    "# # print(a)\n",
    "# data['amenities'].apply(amenities)\n"
   ]
  },
  {
   "cell_type": "code",
   "execution_count": 877,
   "metadata": {},
   "outputs": [
    {
     "data": {
      "text/plain": [
       "active                 0\n",
       "amenities              0\n",
       "balconies              0\n",
       "bathroom               0\n",
       "deposit                0\n",
       "facing                 0\n",
       "floor                  0\n",
       "furnishingDesc         0\n",
       "gym                    0\n",
       "isMaintenance          0\n",
       "lift                   0\n",
       "loanAvailable          0\n",
       "locality               6\n",
       "location               0\n",
       "maintenanceAmount      0\n",
       "parking                0\n",
       "propertyTitle          0\n",
       "property_age           0\n",
       "property_size          0\n",
       "reactivationSource    63\n",
       "rent_amount            0\n",
       "sharedAccomodation     0\n",
       "swimmingPool           0\n",
       "totalFloor             0\n",
       "type_bhk               0\n",
       "waterSupply            0\n",
       "dtype: int64"
      ]
     },
     "execution_count": 877,
     "metadata": {},
     "output_type": "execute_result"
    }
   ],
   "source": [
    "data.isnull().sum()"
   ]
  },
  {
   "cell_type": "code",
   "execution_count": 878,
   "metadata": {},
   "outputs": [
    {
     "data": {
      "text/plain": [
       "(19110, 26)"
      ]
     },
     "execution_count": 878,
     "metadata": {},
     "output_type": "execute_result"
    }
   ],
   "source": [
    "data.shape"
   ]
  },
  {
   "cell_type": "code",
   "execution_count": 879,
   "metadata": {},
   "outputs": [],
   "source": [
    "data = data.dropna(axis=0,how='any')"
   ]
  },
  {
   "cell_type": "code",
   "execution_count": 880,
   "metadata": {},
   "outputs": [
    {
     "data": {
      "text/plain": [
       "active                0\n",
       "amenities             0\n",
       "balconies             0\n",
       "bathroom              0\n",
       "deposit               0\n",
       "facing                0\n",
       "floor                 0\n",
       "furnishingDesc        0\n",
       "gym                   0\n",
       "isMaintenance         0\n",
       "lift                  0\n",
       "loanAvailable         0\n",
       "locality              0\n",
       "location              0\n",
       "maintenanceAmount     0\n",
       "parking               0\n",
       "propertyTitle         0\n",
       "property_age          0\n",
       "property_size         0\n",
       "reactivationSource    0\n",
       "rent_amount           0\n",
       "sharedAccomodation    0\n",
       "swimmingPool          0\n",
       "totalFloor            0\n",
       "type_bhk              0\n",
       "waterSupply           0\n",
       "dtype: int64"
      ]
     },
     "execution_count": 880,
     "metadata": {},
     "output_type": "execute_result"
    }
   ],
   "source": [
    "data.isnull().sum()\n",
    "# data is dropped because the null values are very low and removing them doesnt make a difference"
   ]
  },
  {
   "cell_type": "code",
   "execution_count": 881,
   "metadata": {},
   "outputs": [],
   "source": [
    "data.drop(columns=['amenities','propertyTitle'],axis=1,inplace=True)"
   ]
  },
  {
   "cell_type": "code",
   "execution_count": 882,
   "metadata": {},
   "outputs": [
    {
     "data": {
      "text/plain": [
       "active                                                       True\n",
       "balconies                                                       3\n",
       "bathroom                                                        3\n",
       "deposit                                                     90000\n",
       "facing                                                          W\n",
       "floor                                                           3\n",
       "furnishingDesc                                               Semi\n",
       "gym                                                         False\n",
       "isMaintenance                                                True\n",
       "lift                                                         True\n",
       "loanAvailable                                                True\n",
       "locality                                               Gachibowli\n",
       "location              17.465080245131944000,78.340134322090170000\n",
       "maintenanceAmount                                            2000\n",
       "parking                                                      BOTH\n",
       "property_age                                                    5\n",
       "property_size                                                2200\n",
       "reactivationSource                                 USER_DASHBOARD\n",
       "rent_amount                                                 28000\n",
       "sharedAccomodation                                          False\n",
       "swimmingPool                                                False\n",
       "totalFloor                                                      5\n",
       "type_bhk                                                     BHK3\n",
       "waterSupply                                             CORP_BORE\n",
       "Name: 0, dtype: object"
      ]
     },
     "execution_count": 882,
     "metadata": {},
     "output_type": "execute_result"
    }
   ],
   "source": [
    "data.iloc[0]"
   ]
  },
  {
   "cell_type": "code",
   "execution_count": 883,
   "metadata": {},
   "outputs": [
    {
     "data": {
      "text/plain": [
       "Kukatpally        1519\n",
       "Kondapur          1232\n",
       "Gachibowli         713\n",
       "Miyapur            601\n",
       "Hafeezpet          466\n",
       "                  ... \n",
       "Namalagundu          1\n",
       "Medipattanam         1\n",
       "Himayathnagar        1\n",
       "Shilpa Park          1\n",
       "Sikh Village,        1\n",
       "Name: locality, Length: 2634, dtype: int64"
      ]
     },
     "execution_count": 883,
     "metadata": {},
     "output_type": "execute_result"
    }
   ],
   "source": [
    "data['locality'].value_counts()"
   ]
  },
  {
   "cell_type": "code",
   "execution_count": 884,
   "metadata": {},
   "outputs": [],
   "source": [
    "# lets ignore values less than 10 to lessen the data which makes encoding easy\n",
    "locations = data['locality'].value_counts()\n",
    "less_than_10 = locations[locations <= 10]\n",
    "data['locality'] = data['locality'].apply(lambda x: 'other' if x in less_than_10 else x)\n"
   ]
  },
  {
   "cell_type": "code",
   "execution_count": 885,
   "metadata": {},
   "outputs": [
    {
     "data": {
      "text/plain": [
       "other                 4165\n",
       "Kukatpally            1519\n",
       "Kondapur              1232\n",
       "Gachibowli             713\n",
       "Miyapur                601\n",
       "                      ... \n",
       "Shilpa Hills            11\n",
       "Nampally                11\n",
       "Gopanapalli Thanda      11\n",
       "Peeramcheru             11\n",
       "L. B. Nagar             11\n",
       "Name: locality, Length: 211, dtype: int64"
      ]
     },
     "execution_count": 885,
     "metadata": {},
     "output_type": "execute_result"
    }
   ],
   "source": [
    "data['locality'].value_counts()"
   ]
  },
  {
   "cell_type": "code",
   "execution_count": 886,
   "metadata": {},
   "outputs": [
    {
     "data": {
      "text/html": [
       "<div>\n",
       "<style scoped>\n",
       "    .dataframe tbody tr th:only-of-type {\n",
       "        vertical-align: middle;\n",
       "    }\n",
       "\n",
       "    .dataframe tbody tr th {\n",
       "        vertical-align: top;\n",
       "    }\n",
       "\n",
       "    .dataframe thead th {\n",
       "        text-align: right;\n",
       "    }\n",
       "</style>\n",
       "<table border=\"1\" class=\"dataframe\">\n",
       "  <thead>\n",
       "    <tr style=\"text-align: right;\">\n",
       "      <th></th>\n",
       "      <th>active</th>\n",
       "      <th>balconies</th>\n",
       "      <th>bathroom</th>\n",
       "      <th>deposit</th>\n",
       "      <th>facing</th>\n",
       "      <th>floor</th>\n",
       "      <th>furnishingDesc</th>\n",
       "      <th>gym</th>\n",
       "      <th>isMaintenance</th>\n",
       "      <th>lift</th>\n",
       "      <th>...</th>\n",
       "      <th>parking</th>\n",
       "      <th>property_age</th>\n",
       "      <th>property_size</th>\n",
       "      <th>reactivationSource</th>\n",
       "      <th>rent_amount</th>\n",
       "      <th>sharedAccomodation</th>\n",
       "      <th>swimmingPool</th>\n",
       "      <th>totalFloor</th>\n",
       "      <th>type_bhk</th>\n",
       "      <th>waterSupply</th>\n",
       "    </tr>\n",
       "  </thead>\n",
       "  <tbody>\n",
       "    <tr>\n",
       "      <th>0</th>\n",
       "      <td>True</td>\n",
       "      <td>3</td>\n",
       "      <td>3</td>\n",
       "      <td>90000</td>\n",
       "      <td>W</td>\n",
       "      <td>3</td>\n",
       "      <td>Semi</td>\n",
       "      <td>False</td>\n",
       "      <td>True</td>\n",
       "      <td>True</td>\n",
       "      <td>...</td>\n",
       "      <td>BOTH</td>\n",
       "      <td>5</td>\n",
       "      <td>2200</td>\n",
       "      <td>USER_DASHBOARD</td>\n",
       "      <td>28000</td>\n",
       "      <td>False</td>\n",
       "      <td>False</td>\n",
       "      <td>5</td>\n",
       "      <td>BHK3</td>\n",
       "      <td>CORP_BORE</td>\n",
       "    </tr>\n",
       "    <tr>\n",
       "      <th>1</th>\n",
       "      <td>True</td>\n",
       "      <td>1</td>\n",
       "      <td>2</td>\n",
       "      <td>45000</td>\n",
       "      <td>E</td>\n",
       "      <td>2</td>\n",
       "      <td>Unfurnished</td>\n",
       "      <td>False</td>\n",
       "      <td>False</td>\n",
       "      <td>False</td>\n",
       "      <td>...</td>\n",
       "      <td>TWO_WHEELER</td>\n",
       "      <td>1</td>\n",
       "      <td>1200</td>\n",
       "      <td>USER_DASHBOARD</td>\n",
       "      <td>15000</td>\n",
       "      <td>False</td>\n",
       "      <td>False</td>\n",
       "      <td>2</td>\n",
       "      <td>BHK3</td>\n",
       "      <td>BOREWELL</td>\n",
       "    </tr>\n",
       "    <tr>\n",
       "      <th>2</th>\n",
       "      <td>True</td>\n",
       "      <td>3</td>\n",
       "      <td>3</td>\n",
       "      <td>80000</td>\n",
       "      <td>E</td>\n",
       "      <td>0</td>\n",
       "      <td>Semi</td>\n",
       "      <td>True</td>\n",
       "      <td>True</td>\n",
       "      <td>True</td>\n",
       "      <td>...</td>\n",
       "      <td>BOTH</td>\n",
       "      <td>0</td>\n",
       "      <td>1800</td>\n",
       "      <td>MISSED_CALL</td>\n",
       "      <td>16000</td>\n",
       "      <td>False</td>\n",
       "      <td>False</td>\n",
       "      <td>3</td>\n",
       "      <td>BHK3</td>\n",
       "      <td>CORP_BORE</td>\n",
       "    </tr>\n",
       "    <tr>\n",
       "      <th>3</th>\n",
       "      <td>True</td>\n",
       "      <td>1</td>\n",
       "      <td>2</td>\n",
       "      <td>18000</td>\n",
       "      <td>W</td>\n",
       "      <td>2</td>\n",
       "      <td>Unfurnished</td>\n",
       "      <td>False</td>\n",
       "      <td>True</td>\n",
       "      <td>False</td>\n",
       "      <td>...</td>\n",
       "      <td>BOTH</td>\n",
       "      <td>0</td>\n",
       "      <td>750</td>\n",
       "      <td>MISSED_CALL</td>\n",
       "      <td>9000</td>\n",
       "      <td>False</td>\n",
       "      <td>False</td>\n",
       "      <td>2</td>\n",
       "      <td>BHK2</td>\n",
       "      <td>CORP_BORE</td>\n",
       "    </tr>\n",
       "    <tr>\n",
       "      <th>4</th>\n",
       "      <td>True</td>\n",
       "      <td>2</td>\n",
       "      <td>2</td>\n",
       "      <td>80000</td>\n",
       "      <td>E</td>\n",
       "      <td>2</td>\n",
       "      <td>Semi</td>\n",
       "      <td>False</td>\n",
       "      <td>True</td>\n",
       "      <td>True</td>\n",
       "      <td>...</td>\n",
       "      <td>BOTH</td>\n",
       "      <td>5</td>\n",
       "      <td>1250</td>\n",
       "      <td>None</td>\n",
       "      <td>32500</td>\n",
       "      <td>False</td>\n",
       "      <td>False</td>\n",
       "      <td>5</td>\n",
       "      <td>BHK2</td>\n",
       "      <td>CORP_BORE</td>\n",
       "    </tr>\n",
       "  </tbody>\n",
       "</table>\n",
       "<p>5 rows × 24 columns</p>\n",
       "</div>"
      ],
      "text/plain": [
       "   active balconies  bathroom  deposit facing  floor furnishingDesc    gym  \\\n",
       "0    True         3         3    90000      W      3           Semi  False   \n",
       "1    True         1         2    45000      E      2    Unfurnished  False   \n",
       "2    True         3         3    80000      E      0           Semi   True   \n",
       "3    True         1         2    18000      W      2    Unfurnished  False   \n",
       "4    True         2         2    80000      E      2           Semi  False   \n",
       "\n",
       "   isMaintenance   lift  ...      parking property_age property_size  \\\n",
       "0           True   True  ...         BOTH            5          2200   \n",
       "1          False  False  ...  TWO_WHEELER            1          1200   \n",
       "2           True   True  ...         BOTH            0          1800   \n",
       "3           True  False  ...         BOTH            0           750   \n",
       "4           True   True  ...         BOTH            5          1250   \n",
       "\n",
       "  reactivationSource rent_amount  sharedAccomodation  swimmingPool totalFloor  \\\n",
       "0     USER_DASHBOARD       28000               False         False          5   \n",
       "1     USER_DASHBOARD       15000               False         False          2   \n",
       "2        MISSED_CALL       16000               False         False          3   \n",
       "3        MISSED_CALL        9000               False         False          2   \n",
       "4               None       32500               False         False          5   \n",
       "\n",
       "   type_bhk  waterSupply  \n",
       "0      BHK3    CORP_BORE  \n",
       "1      BHK3     BOREWELL  \n",
       "2      BHK3    CORP_BORE  \n",
       "3      BHK2    CORP_BORE  \n",
       "4      BHK2    CORP_BORE  \n",
       "\n",
       "[5 rows x 24 columns]"
      ]
     },
     "execution_count": 886,
     "metadata": {},
     "output_type": "execute_result"
    }
   ],
   "source": [
    "data.head()"
   ]
  },
  {
   "cell_type": "code",
   "execution_count": 887,
   "metadata": {},
   "outputs": [
    {
     "data": {
      "text/plain": [
       "active                                                       True\n",
       "balconies                                                       3\n",
       "bathroom                                                        3\n",
       "deposit                                                     90000\n",
       "facing                                                          W\n",
       "floor                                                           3\n",
       "furnishingDesc                                               Semi\n",
       "gym                                                         False\n",
       "isMaintenance                                                True\n",
       "lift                                                         True\n",
       "loanAvailable                                                True\n",
       "locality                                               Gachibowli\n",
       "location              17.465080245131944000,78.340134322090170000\n",
       "maintenanceAmount                                            2000\n",
       "parking                                                      BOTH\n",
       "property_age                                                    5\n",
       "property_size                                                2200\n",
       "reactivationSource                                 USER_DASHBOARD\n",
       "rent_amount                                                 28000\n",
       "sharedAccomodation                                          False\n",
       "swimmingPool                                                False\n",
       "totalFloor                                                      5\n",
       "type_bhk                                                     BHK3\n",
       "waterSupply                                             CORP_BORE\n",
       "Name: 0, dtype: object"
      ]
     },
     "execution_count": 887,
     "metadata": {},
     "output_type": "execute_result"
    }
   ],
   "source": [
    "data.iloc[0]"
   ]
  },
  {
   "cell_type": "code",
   "execution_count": 888,
   "metadata": {},
   "outputs": [],
   "source": [
    "data['type_bhk'] = data['type_bhk'].apply(lambda x : x[3] if len(x)==4 else None)"
   ]
  },
  {
   "cell_type": "code",
   "execution_count": 889,
   "metadata": {},
   "outputs": [
    {
     "data": {
      "text/plain": [
       "2    9212\n",
       "3    4210\n",
       "1    4205\n",
       "4     210\n",
       "Name: type_bhk, dtype: int64"
      ]
     },
     "execution_count": 889,
     "metadata": {},
     "output_type": "execute_result"
    }
   ],
   "source": [
    "data['type_bhk'].value_counts()"
   ]
  },
  {
   "cell_type": "code",
   "execution_count": 890,
   "metadata": {},
   "outputs": [
    {
     "data": {
      "text/plain": [
       "active                   0\n",
       "balconies                0\n",
       "bathroom                 0\n",
       "deposit                  0\n",
       "facing                   0\n",
       "floor                    0\n",
       "furnishingDesc           0\n",
       "gym                      0\n",
       "isMaintenance            0\n",
       "lift                     0\n",
       "loanAvailable            0\n",
       "locality                 0\n",
       "location                 0\n",
       "maintenanceAmount        0\n",
       "parking                  0\n",
       "property_age             0\n",
       "property_size            0\n",
       "reactivationSource       0\n",
       "rent_amount              0\n",
       "sharedAccomodation       0\n",
       "swimmingPool             0\n",
       "totalFloor               0\n",
       "type_bhk              1204\n",
       "waterSupply              0\n",
       "dtype: int64"
      ]
     },
     "execution_count": 890,
     "metadata": {},
     "output_type": "execute_result"
    }
   ],
   "source": [
    "data.isnull().sum()"
   ]
  },
  {
   "cell_type": "code",
   "execution_count": 891,
   "metadata": {},
   "outputs": [],
   "source": [
    "data = data.dropna(axis=0,how='any')\n",
    "# removing the data without BHK values coz they are few "
   ]
  },
  {
   "cell_type": "code",
   "execution_count": 892,
   "metadata": {},
   "outputs": [
    {
     "data": {
      "text/plain": [
       "active                0\n",
       "balconies             0\n",
       "bathroom              0\n",
       "deposit               0\n",
       "facing                0\n",
       "floor                 0\n",
       "furnishingDesc        0\n",
       "gym                   0\n",
       "isMaintenance         0\n",
       "lift                  0\n",
       "loanAvailable         0\n",
       "locality              0\n",
       "location              0\n",
       "maintenanceAmount     0\n",
       "parking               0\n",
       "property_age          0\n",
       "property_size         0\n",
       "reactivationSource    0\n",
       "rent_amount           0\n",
       "sharedAccomodation    0\n",
       "swimmingPool          0\n",
       "totalFloor            0\n",
       "type_bhk              0\n",
       "waterSupply           0\n",
       "dtype: int64"
      ]
     },
     "execution_count": 892,
     "metadata": {},
     "output_type": "execute_result"
    }
   ],
   "source": [
    "data.isnull().sum()"
   ]
  },
  {
   "cell_type": "code",
   "execution_count": 893,
   "metadata": {},
   "outputs": [
    {
     "data": {
      "text/plain": [
       "active                                                       True\n",
       "balconies                                                       3\n",
       "bathroom                                                        3\n",
       "deposit                                                     90000\n",
       "facing                                                          W\n",
       "floor                                                           3\n",
       "furnishingDesc                                               Semi\n",
       "gym                                                         False\n",
       "isMaintenance                                                True\n",
       "lift                                                         True\n",
       "loanAvailable                                                True\n",
       "locality                                               Gachibowli\n",
       "location              17.465080245131944000,78.340134322090170000\n",
       "maintenanceAmount                                            2000\n",
       "parking                                                      BOTH\n",
       "property_age                                                    5\n",
       "property_size                                                2200\n",
       "reactivationSource                                 USER_DASHBOARD\n",
       "rent_amount                                                 28000\n",
       "sharedAccomodation                                          False\n",
       "swimmingPool                                                False\n",
       "totalFloor                                                      5\n",
       "type_bhk                                                        3\n",
       "waterSupply                                             CORP_BORE\n",
       "Name: 0, dtype: object"
      ]
     },
     "execution_count": 893,
     "metadata": {},
     "output_type": "execute_result"
    }
   ],
   "source": [
    "data.iloc[0]"
   ]
  },
  {
   "cell_type": "code",
   "execution_count": 894,
   "metadata": {},
   "outputs": [],
   "source": [
    "labelencoder = LabelEncoder()"
   ]
  },
  {
   "cell_type": "code",
   "execution_count": 895,
   "metadata": {},
   "outputs": [
    {
     "data": {
      "text/plain": [
       "other              3889\n",
       "Kukatpally         1434\n",
       "Kondapur           1179\n",
       "Gachibowli          668\n",
       "Miyapur             576\n",
       "                   ... \n",
       " Madhapur             9\n",
       "Madhura Nagar         9\n",
       " Gachibowli           9\n",
       "L. B. Nagar           8\n",
       "Jagadgiri Gutta       7\n",
       "Name: locality, Length: 211, dtype: int64"
      ]
     },
     "execution_count": 895,
     "metadata": {},
     "output_type": "execute_result"
    }
   ],
   "source": [
    "data['locality'].value_counts()"
   ]
  },
  {
   "cell_type": "code",
   "execution_count": 896,
   "metadata": {},
   "outputs": [],
   "source": [
    "label = labelencoder.fit_transform(data.locality)\n",
    "data.locality = label\n",
    "label = labelencoder.fit_transform(data.active)\n",
    "data.active = label\n",
    "label = labelencoder.fit_transform(data.facing)\n",
    "data.facing = label\n",
    "label = labelencoder.fit_transform(data.furnishingDesc)\n",
    "data.furnishingDesc = label\n",
    "label = labelencoder.fit_transform(data.gym)\n",
    "data.gym = label\n",
    "label = labelencoder.fit_transform(data.isMaintenance)\n",
    "data.isMaintenance = label\n",
    "label = labelencoder.fit_transform(data.lift)\n",
    "data.lift = label\n",
    "label = labelencoder.fit_transform(data.loanAvailable)\n",
    "data.loanAvailable = label\n",
    "label = labelencoder.fit_transform(data.parking)\n",
    "data.parking = label\n",
    "label = labelencoder.fit_transform(data.reactivationSource)\n",
    "data.reactivationSource = label\n",
    "label = labelencoder.fit_transform(data.sharedAccomodation)\n",
    "data.sharedAccomodation = label\n",
    "label = labelencoder.fit_transform(data.swimmingPool)\n",
    "data.swimmingPool = label\n",
    "label = labelencoder.fit_transform(data.waterSupply)\n",
    "data.waterSupply = label"
   ]
  },
  {
   "cell_type": "code",
   "execution_count": 897,
   "metadata": {},
   "outputs": [
    {
     "data": {
      "text/plain": [
       "210    3889\n",
       "100    1434\n",
       "94     1179\n",
       "51      668\n",
       "126     576\n",
       "       ... \n",
       "4         9\n",
       "111       9\n",
       "1         9\n",
       "104       8\n",
       "74        7\n",
       "Name: locality, Length: 211, dtype: int64"
      ]
     },
     "execution_count": 897,
     "metadata": {},
     "output_type": "execute_result"
    }
   ],
   "source": [
    "data['locality'].value_counts()"
   ]
  },
  {
   "cell_type": "code",
   "execution_count": 898,
   "metadata": {},
   "outputs": [
    {
     "data": {
      "text/plain": [
       "active                                                          0\n",
       "balconies                                                       3\n",
       "bathroom                                                        3\n",
       "deposit                                                     90000\n",
       "facing                                                          9\n",
       "floor                                                           3\n",
       "furnishingDesc                                                  1\n",
       "gym                                                             0\n",
       "isMaintenance                                                   1\n",
       "lift                                                            1\n",
       "loanAvailable                                                   0\n",
       "locality                                                       51\n",
       "location              17.465080245131944000,78.340134322090170000\n",
       "maintenanceAmount                                            2000\n",
       "parking                                                         0\n",
       "property_age                                                    5\n",
       "property_size                                                2200\n",
       "reactivationSource                                              6\n",
       "rent_amount                                                 28000\n",
       "sharedAccomodation                                              0\n",
       "swimmingPool                                                    0\n",
       "totalFloor                                                      5\n",
       "type_bhk                                                        3\n",
       "waterSupply                                                     2\n",
       "Name: 0, dtype: object"
      ]
     },
     "execution_count": 898,
     "metadata": {},
     "output_type": "execute_result"
    }
   ],
   "source": [
    "data.iloc[0]"
   ]
  },
  {
   "cell_type": "code",
   "execution_count": 899,
   "metadata": {},
   "outputs": [],
   "source": [
    "data[['location-x', 'location-y']\n",
    "     ] = data['location'].str.split(',', n=2, expand=True)\n"
   ]
  },
  {
   "cell_type": "code",
   "execution_count": 900,
   "metadata": {},
   "outputs": [
    {
     "data": {
      "text/plain": [
       "active                                                          0\n",
       "balconies                                                       3\n",
       "bathroom                                                        3\n",
       "deposit                                                     90000\n",
       "facing                                                          9\n",
       "floor                                                           3\n",
       "furnishingDesc                                                  1\n",
       "gym                                                             0\n",
       "isMaintenance                                                   1\n",
       "lift                                                            1\n",
       "loanAvailable                                                   0\n",
       "locality                                                       51\n",
       "location              17.465080245131944000,78.340134322090170000\n",
       "maintenanceAmount                                            2000\n",
       "parking                                                         0\n",
       "property_age                                                    5\n",
       "property_size                                                2200\n",
       "reactivationSource                                              6\n",
       "rent_amount                                                 28000\n",
       "sharedAccomodation                                              0\n",
       "swimmingPool                                                    0\n",
       "totalFloor                                                      5\n",
       "type_bhk                                                        3\n",
       "waterSupply                                                     2\n",
       "location-x                                  17.465080245131944000\n",
       "location-y                                  78.340134322090170000\n",
       "Name: 0, dtype: object"
      ]
     },
     "execution_count": 900,
     "metadata": {},
     "output_type": "execute_result"
    }
   ],
   "source": [
    "data.loc[0]"
   ]
  },
  {
   "cell_type": "code",
   "execution_count": 901,
   "metadata": {},
   "outputs": [],
   "source": [
    "del data['location']"
   ]
  },
  {
   "cell_type": "code",
   "execution_count": 902,
   "metadata": {},
   "outputs": [
    {
     "name": "stdout",
     "output_type": "stream",
     "text": [
      "<class 'numpy.int64'>\n",
      "<class 'str'>\n",
      "<class 'numpy.int64'>\n",
      "<class 'numpy.int64'>\n",
      "<class 'numpy.int32'>\n",
      "<class 'numpy.int64'>\n",
      "<class 'numpy.int32'>\n",
      "<class 'numpy.int64'>\n",
      "<class 'numpy.int64'>\n",
      "<class 'numpy.int64'>\n",
      "<class 'numpy.int64'>\n",
      "<class 'numpy.int32'>\n",
      "<class 'str'>\n",
      "<class 'numpy.int32'>\n",
      "<class 'numpy.int64'>\n",
      "<class 'numpy.int64'>\n",
      "<class 'numpy.int32'>\n",
      "<class 'numpy.int64'>\n",
      "<class 'numpy.int64'>\n",
      "<class 'numpy.int64'>\n",
      "<class 'numpy.int64'>\n",
      "<class 'str'>\n",
      "<class 'numpy.int32'>\n",
      "<class 'str'>\n",
      "<class 'str'>\n"
     ]
    }
   ],
   "source": [
    "for i in data.iloc[0]:\n",
    "    print(type(i))\n",
    "    # print(i)"
   ]
  },
  {
   "cell_type": "code",
   "execution_count": 903,
   "metadata": {},
   "outputs": [],
   "source": [
    "data['balconies'] = data['balconies'].apply(lambda x: x if type(x)==int else 0)\n",
    "data['maintenanceAmount'] = data['maintenanceAmount'].apply(lambda x: x if type(x)==int else 0)"
   ]
  },
  {
   "cell_type": "code",
   "execution_count": 904,
   "metadata": {},
   "outputs": [],
   "source": [
    "data['balconies'] = data['balconies'].astype(float)\n",
    "data['location-x'] = data['location-x'].astype(float)\n",
    "data['location-y'] = data['location-y'].astype(float)\n",
    "data['type_bhk'] = data['type_bhk'].astype(float)\n",
    "data['maintenanceAmount'] = data['maintenanceAmount'].astype(float)"
   ]
  },
  {
   "cell_type": "code",
   "execution_count": 905,
   "metadata": {},
   "outputs": [
    {
     "data": {
      "text/plain": [
       "active                    0.000000\n",
       "balconies                 0.000000\n",
       "bathroom                  0.710261\n",
       "deposit               39825.288730\n",
       "facing                    2.437498\n",
       "floor                     2.465249\n",
       "furnishingDesc            0.629531\n",
       "gym                       0.272343\n",
       "isMaintenance             0.499724\n",
       "lift                      0.472871\n",
       "loanAvailable             0.000000\n",
       "locality                 63.777725\n",
       "maintenanceAmount         0.000000\n",
       "parking                   1.410225\n",
       "property_age              3.442319\n",
       "property_size           492.742711\n",
       "reactivationSource        1.008934\n",
       "rent_amount            9248.670235\n",
       "sharedAccomodation        0.000000\n",
       "swimmingPool              0.280952\n",
       "totalFloor                3.973838\n",
       "type_bhk                  0.719949\n",
       "waterSupply               0.883276\n",
       "location-x                0.055711\n",
       "location-y                0.082221\n",
       "dtype: float64"
      ]
     },
     "execution_count": 905,
     "metadata": {},
     "output_type": "execute_result"
    }
   ],
   "source": [
    "data.std()"
   ]
  },
  {
   "cell_type": "code",
   "execution_count": 906,
   "metadata": {},
   "outputs": [
    {
     "data": {
      "text/plain": [
       "array([[ 0.00000000e+00,  0.00000000e+00,  1.47056802e+00, ...,\n",
       "        -2.80617277e-01,  2.65445025e-01, -9.08719177e-01],\n",
       "       [ 0.00000000e+00,  0.00000000e+00,  6.25958366e-02, ...,\n",
       "        -2.54497845e+00, -2.33460397e+00,  6.43617628e-01],\n",
       "       [ 0.00000000e+00,  0.00000000e+00,  1.47056802e+00, ...,\n",
       "        -2.80617277e-01, -8.37268162e-01, -4.30632792e-01],\n",
       "       ...,\n",
       "       [ 0.00000000e+00,  0.00000000e+00,  1.47056802e+00, ...,\n",
       "         8.51563310e-01,  4.14837548e-01,  8.18065256e-02],\n",
       "       [ 0.00000000e+00,  0.00000000e+00, -1.34537634e+00, ...,\n",
       "         8.51563310e-01,  8.68936669e-01,  9.14836114e-04],\n",
       "       [ 0.00000000e+00,  0.00000000e+00, -1.34537634e+00, ...,\n",
       "         8.51563310e-01, -1.78744660e+00,  1.13214769e+00]])"
      ]
     },
     "execution_count": 906,
     "metadata": {},
     "output_type": "execute_result"
    }
   ],
   "source": [
    "scaler = StandardScaler()\n",
    "scaler.fit_transform(data)"
   ]
  },
  {
   "cell_type": "code",
   "execution_count": 907,
   "metadata": {},
   "outputs": [
    {
     "data": {
      "text/plain": [
       "active                    0.000000\n",
       "balconies                 0.000000\n",
       "bathroom                  0.710261\n",
       "deposit               39825.288730\n",
       "facing                    2.437498\n",
       "floor                     2.465249\n",
       "furnishingDesc            0.629531\n",
       "gym                       0.272343\n",
       "isMaintenance             0.499724\n",
       "lift                      0.472871\n",
       "loanAvailable             0.000000\n",
       "locality                 63.777725\n",
       "maintenanceAmount         0.000000\n",
       "parking                   1.410225\n",
       "property_age              3.442319\n",
       "property_size           492.742711\n",
       "reactivationSource        1.008934\n",
       "rent_amount            9248.670235\n",
       "sharedAccomodation        0.000000\n",
       "swimmingPool              0.280952\n",
       "totalFloor                3.973838\n",
       "type_bhk                  0.719949\n",
       "waterSupply               0.883276\n",
       "location-x                0.055711\n",
       "location-y                0.082221\n",
       "dtype: float64"
      ]
     },
     "execution_count": 907,
     "metadata": {},
     "output_type": "execute_result"
    }
   ],
   "source": [
    "data.std()"
   ]
  },
  {
   "cell_type": "code",
   "execution_count": 908,
   "metadata": {},
   "outputs": [],
   "source": [
    "data['active'].value_counts()\n",
    "del data['active']"
   ]
  },
  {
   "cell_type": "code",
   "execution_count": 909,
   "metadata": {},
   "outputs": [],
   "source": [
    "y = data['rent_amount']\n",
    "x = data.drop(columns='rent_amount',axis=1)"
   ]
  },
  {
   "cell_type": "code",
   "execution_count": 910,
   "metadata": {},
   "outputs": [],
   "source": [
    "x_train, x_test, y_train, y_test = train_test_split(x,y,test_size=0.2,random_state=3)"
   ]
  }
 ],
 "metadata": {
  "interpreter": {
   "hash": "6b41ef7670266d03b8c1d51981e5e179bec41dc32367c8e291434a82e4c281ea"
  },
  "kernelspec": {
   "display_name": "Python 3.10.1 ('venv': venv)",
   "language": "python",
   "name": "python3"
  },
  "language_info": {
   "codemirror_mode": {
    "name": "ipython",
    "version": 3
   },
   "file_extension": ".py",
   "mimetype": "text/x-python",
   "name": "python",
   "nbconvert_exporter": "python",
   "pygments_lexer": "ipython3",
   "version": "3.10.1"
  },
  "orig_nbformat": 4
 },
 "nbformat": 4,
 "nbformat_minor": 2
}
